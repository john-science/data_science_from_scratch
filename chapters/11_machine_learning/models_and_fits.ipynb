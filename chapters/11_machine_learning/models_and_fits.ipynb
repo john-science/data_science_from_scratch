{
 "cells": [
  {
   "cell_type": "code",
   "execution_count": 1,
   "metadata": {
    "collapsed": false
   },
   "outputs": [],
   "source": [
    "from random import random\n",
    "\n",
    "\n",
    "def split_data(data, prob):\n",
    "    \"\"\"split data into fractions [prob, 1 -prob]\"\"\"\n",
    "    results = [], []\n",
    "    for row in data:\n",
    "        results[0 if random() < prob else 1].append(row)\n",
    "    return results\n",
    "\n",
    "\n",
    "def train_test_split(x, y, test_pct):\n",
    "    data = zip(x, y)\n",
    "    train, test = split_data(data, 1 - test_pct)\n",
    "    x_train, y_train = zip(*train)\n",
    "    x_test, y_test = zip(*test)\n",
    "    return x_train, x_test, y_train, y_test\n"
   ]
  },
  {
   "cell_type": "code",
   "execution_count": 11,
   "metadata": {
    "collapsed": false
   },
   "outputs": [
    {
     "name": "stdout",
     "output_type": "stream",
     "text": [
      "[1, 2, 3, 4, 5]\n",
      "1 2 3 4 5\n",
      "<class 'list'>\n",
      "[(1, 2), (3, 4), (5, 6), (7, 8), (9, 0)]\n",
      "(1, 2) (3, 4) (5, 6) (7, 8) (9, 0)\n",
      "<class 'list'>\n",
      "<zip object at 0x7fa21815ee48>\n"
     ]
    }
   ],
   "source": [
    "# This is just a test of the Asterisk * notation.\n",
    "\n",
    "train = [1,2,3,4,5]\n",
    "print(train)\n",
    "print(*train)\n",
    "print(type(train))\n",
    "#print(type(*train))  # TypeError: type() takes 1 or 3 arguments\n",
    "\n",
    "pairs = [(1,2), (3,4), (5,6), (7,8), (9,0)]\n",
    "print(pairs)\n",
    "print(*pairs)\n",
    "print(type(pairs))\n",
    "#print(type(*pairs))  # TypeError: type() takes 1 or 3 arguments\n",
    "\n",
    "#print(zip(*train))  # TypeError: zip argument #1 must support iteration\n",
    "print(zip(*pairs))\n",
    "\n",
    "\n",
    "# The asterisk operator unpacks a collection into positional arguments for a function call:\n",
    "# http://stackoverflow.com/questions/2921847/what-does-the-star-operator-mean-in-python"
   ]
  },
  {
   "cell_type": "code",
   "execution_count": 12,
   "metadata": {
    "collapsed": true
   },
   "outputs": [],
   "source": [
    "# CORRECTNESS\n",
    "\n",
    "\n",
    "def accuracy(tp, fp, fn, tn):\n",
    "    \"\"\"fraction of correct predictions\"\"\"\n",
    "    correct = tp + tn\n",
    "    total = tp + fp + fn + tn\n",
    "    return correct / total\n",
    "\n",
    "\n",
    "def precision(tp, fp, fn, tn):\n",
    "    \"\"\"fraction of correct positive predictions\"\"\"\n",
    "    return tp / (tp + fp)\n",
    "\n",
    "\n",
    "def recall(tp, fp, fn, tn):\n",
    "    \"\"\"What fractions positive values predicted\"\"\"\n",
    "    return tp/ (tp + fn)\n",
    "\n",
    "\n",
    "def f1_score(tp, fp, fn, tn):\n",
    "    \"\"\"The harmonic mean of precision and recall is\n",
    "    the F1 score.\"\"\"\n",
    "    p = precision(tp, fp, fn, tn)\n",
    "    r = recall(tp, fp, fn, tn)\n",
    "    return 2 * p * r / (p + r)\n"
   ]
  },
  {
   "cell_type": "code",
   "execution_count": 15,
   "metadata": {
    "collapsed": false
   },
   "outputs": [
    {
     "name": "stdout",
     "output_type": "stream",
     "text": [
      "\n",
      "What is the accuracy of my hypothesis?\n",
      "0.98114\n",
      "\n",
      "What is the precision of my hypothesis?\n",
      "0.014\n",
      "\n",
      "What is the recall of my hypothesis?\n",
      "0.005\n",
      "\n",
      "What is the F1 Score of my hypothesis?\n",
      "0.00736842105263158\n"
     ]
    }
   ],
   "source": [
    "# The ridiculous hypothesis: Being name \"Luke\" causes Leukemia\n",
    "\n",
    "#        leukemia  no_lukemia  total\n",
    "data = [[70,       4930,       5000],     # named \"Luke\"\n",
    "        [13930,    981070,     995000],   # not named \"Luke\"\n",
    "        [14000,    986000,     1000000]]  # total\n",
    "\n",
    "print('\\nWhat is the accuracy of my hypothesis?')\n",
    "print(accuracy(data[0][0], data[0][1], data[1][0], data[1][1]))\n",
    "\n",
    "print('\\nWhat is the precision of my hypothesis?')\n",
    "print(precision(data[0][0], data[0][1], data[1][0], data[1][1]))\n",
    "\n",
    "print('\\nWhat is the recall of my hypothesis?')\n",
    "print(recall(data[0][0], data[0][1], data[1][0], data[1][1]))\n",
    "\n",
    "print('\\nWhat is the F1 Score of my hypothesis?')\n",
    "print(f1_score(data[0][0], data[0][1], data[1][0], data[1][1]))"
   ]
  },
  {
   "cell_type": "code",
   "execution_count": null,
   "metadata": {
    "collapsed": true
   },
   "outputs": [],
   "source": []
  }
 ],
 "metadata": {
  "kernelspec": {
   "display_name": "Python 3",
   "language": "python",
   "name": "python3"
  },
  "language_info": {
   "codemirror_mode": {
    "name": "ipython",
    "version": 3
   },
   "file_extension": ".py",
   "mimetype": "text/x-python",
   "name": "python",
   "nbconvert_exporter": "python",
   "pygments_lexer": "ipython3",
   "version": "3.4.3"
  }
 },
 "nbformat": 4,
 "nbformat_minor": 0
}
