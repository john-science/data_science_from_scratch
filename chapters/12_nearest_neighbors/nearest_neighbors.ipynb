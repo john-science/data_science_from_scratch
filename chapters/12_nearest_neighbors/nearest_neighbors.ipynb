{
 "cells": [
  {
   "cell_type": "code",
   "execution_count": 2,
   "metadata": {
    "collapsed": true
   },
   "outputs": [],
   "source": [
    "\"\"\" This is a very slow intro to understanding and implementing\n",
    "the K-means algorithm in Python.\n",
    "\"\"\"\n",
    "from collections import Counter\n",
    "\n",
    "\n",
    "def raw_majority_vote(labels):\n",
    "    votes = Counter(labels)\n",
    "    winner, _ = votes.most_common(1)[0]\n",
    "    return winner\n",
    "\n",
    "\n",
    "def majority_vote(labels):\n",
    "    \"\"\"assumes that labels are ordered from nearest to farthest\"\"\"\n",
    "    vote_counts = Counter(labels)\n",
    "    winner, winner_count = vote_counts.most_common(1)[0]\n",
    "    num_winners = len([count for count in vote_counts.values() if count == winner_count])\n",
    "    \n",
    "    if num_winners == 1:\n",
    "        return winner\n",
    "    else:\n",
    "        return majority_vote(labels[:-1])\n"
   ]
  },
  {
   "cell_type": "code",
   "execution_count": 3,
   "metadata": {
    "collapsed": true
   },
   "outputs": [],
   "source": [
    "# Just copying all the vector stuff from chapter 4\n",
    "from math import sqrt\n",
    "\n",
    "\n",
    "def vector_add(v, w):\n",
    "    '''adds corresponding elements of vectors'''\n",
    "    return [v_i + w_i for v_i,w_i in zip(v, w)]\n",
    "\n",
    "\n",
    "def vector_subtract(v, w):\n",
    "    '''subtract corresponding elements of vectors'''\n",
    "    return [v_i - w_i for v_i,w_i in zip(v, w)]\n",
    "\n",
    "\n",
    "def vector_sum(vectors):\n",
    "    '''sum all corresponding elements'''\n",
    "    result = vectors[0]\n",
    "    for vector in vectors[1:]:\n",
    "        result = vector_add(result, vector)\n",
    "\n",
    "    return result\n",
    "\n",
    "\n",
    "def vector_sum_fast(vectors):\n",
    "    '''sum all corresponding elements'''\n",
    "    return reduce(vector_add, vectors)\n",
    "\n",
    "\n",
    "def scalar_multiply(c, vector):\n",
    "    '''c is the scalar'''\n",
    "    return [c * v_i for v_i in vector]\n",
    "\n",
    "\n",
    "def vector_mean(vectors):\n",
    "    '''The ith element of the result is the mean of the ith element\n",
    "    of all the input vectors.'''\n",
    "    n = len(vectors)\n",
    "    return scalar_multiply(1/n, vector_sum(vectors))\n",
    "\n",
    "\n",
    "def dot(v, w):\n",
    "    '''the sum of the product of the matching elements\n",
    "    of the input vectors'''\n",
    "    return sum(v_i * w_i for v_i,w_i in zip(v, w))\n",
    "\n",
    "\n",
    "def sum_of_squares(v):\n",
    "    '''add the square of each element'''\n",
    "    return dot(v, v)\n",
    "\n",
    "\n",
    "def magnitude(v):\n",
    "    '''Find the length of a vector in cartesian space'''\n",
    "    return sqrt(sum_of_squares(v))\n",
    "\n",
    "\n",
    "def distance(v, w):\n",
    "    '''Find the distance between two vectors'''\n",
    "    return magnitude(vector_subtract(v, w))"
   ]
  },
  {
   "cell_type": "code",
   "execution_count": 5,
   "metadata": {
    "collapsed": false
   },
   "outputs": [],
   "source": [
    "\n",
    "def knn_classify(k, labeled_points, new_point):\n",
    "    \"\"\"each labeled point should be a pair: (point, label)\"\"\"\n",
    "    # order the labeled points from nearest to farthest\n",
    "    by_distance = sorted(labeled_points, key=lambda point, _: distance(point, new_point))\n",
    "    \n",
    "    # find the labels for the k closest\n",
    "    k_nearest_labels = [label for _, label in by_distance[:k]]\n",
    "    \n",
    "    # and let them vote\n",
    "    return majority_vote(k_nearest_labels)\n"
   ]
  },
  {
   "cell_type": "code",
   "execution_count": null,
   "metadata": {
    "collapsed": true
   },
   "outputs": [],
   "source": []
  }
 ],
 "metadata": {
  "kernelspec": {
   "display_name": "Python 3",
   "language": "python",
   "name": "python3"
  },
  "language_info": {
   "codemirror_mode": {
    "name": "ipython",
    "version": 3
   },
   "file_extension": ".py",
   "mimetype": "text/x-python",
   "name": "python",
   "nbconvert_exporter": "python",
   "pygments_lexer": "ipython3",
   "version": "3.4.3"
  }
 },
 "nbformat": 4,
 "nbformat_minor": 0
}
