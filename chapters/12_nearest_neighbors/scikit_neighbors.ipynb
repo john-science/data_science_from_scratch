{
 "cells": [
  {
   "cell_type": "code",
   "execution_count": 4,
   "metadata": {
    "collapsed": false
   },
   "outputs": [
    {
     "name": "stdout",
     "output_type": "stream",
     "text": [
      "NearestNeighbors(algorithm='auto', leaf_size=30, metric='minkowski',\n",
      "         metric_params=None, n_neighbors=2, p=2, radius=0.4)\n",
      "[[2 0]]\n",
      "2\n",
      "[array([2])]\n"
     ]
    }
   ],
   "source": [
    "\"\"\" This is just a quick test, using the nearest neighbors functionality\n",
    "that is built into scikit-learn.\n",
    "\"\"\"\n",
    "import numpy as np\n",
    "from sklearn.neighbors import NearestNeighbors\n",
    "\n",
    "\n",
    "\"\"\" SUPER SIMPLE TEST # 1\n",
    "Taken from: \n",
    "http://scikit-learn.org/stable/modules/generated/sklearn.neighbors.NearestNeighbors.html\n",
    "\"\"\"\n",
    "# just a few data points\n",
    "samples = [[0, 0, 2], [1, 0, 0], [0, 0, 1]]\n",
    "\n",
    "\"\"\" NearestNeighbors is an unsupervised learner for implementing\n",
    "nearest neighbor searches. Here we start off with:\n",
    "default value for k_neighbors = 2\n",
    "radius (range of parameter space to use by default) = 0.4\n",
    "\"\"\"\n",
    "neigh = NearestNeighbors(2, 0.4)\n",
    "# fit the model using \"samples\" as the training data\n",
    "neigh_desc = neigh.fit(samples)\n",
    "# find the K-neighbors of the point (0, 0, 1.3), n neighbors = 2\n",
    "neigh_dist = neigh.kneighbors([[0, 0, 1.3]], 2, return_distance=False)\n",
    "\n",
    "# find the neighbors withing 0.4 of the given point\n",
    "rng = neigh.radius_neighbors([0, 0, 1.3], 0.4, return_distance=False)\n",
    "\n",
    "# displaying some results\n",
    "print(neigh_desc)\n",
    "print(neigh_dist)\n",
    "print(np.asarray(rng[0][0]))\n",
    "print(rng)"
   ]
  },
  {
   "cell_type": "code",
   "execution_count": 11,
   "metadata": {
    "collapsed": false
   },
   "outputs": [
    {
     "name": "stdout",
     "output_type": "stream",
     "text": [
      "NearestNeighbors(algorithm='auto', leaf_size=30, metric='minkowski',\n",
      "         metric_params=None, n_neighbors=5, p=2, radius=4)\n",
      "[[26 40 29 43 46]]\n",
      "[array([26, 29, 40])]\n"
     ]
    }
   ],
   "source": [
    "\"\"\" Test #2\n",
    "I generate a bunch of points in (hopefully) three clusters in 3-space,\n",
    "and try to group them.\n",
    "\"\"\"\n",
    "from random import randint\n",
    "\n",
    "\n",
    "data = []\n",
    "for _ in range(20):\n",
    "    data.append([randint(1, 10), randint(1, 10), randint(1, 10)])\n",
    "for _ in range(40):\n",
    "    data.append([randint(-10, 0), randint(1, 10), randint(1, 10)])\n",
    "for _ in range(60):\n",
    "    data.append([randint(-10, 0), randint(-30, -20), randint(-30, -20)])\n",
    "\n",
    "neigh = NearestNeighbors(5, 4)\n",
    "# fit the model using \"samples\" as the training data\n",
    "neigh_desc = neigh.fit(data)\n",
    "# find the K-neighbors of the point (0, 0, 1.3), n neighbors = 5\n",
    "neigh_dist = neigh.kneighbors([[0, 0, 1.3]], 5, return_distance=False)\n",
    "\n",
    "# find the neighbors withing 4 of the given point\n",
    "rng = neigh.radius_neighbors([0, 0, 1.3], 4, return_distance=False)\n",
    "\n",
    "# displaying some results\n",
    "print(neigh_desc)\n",
    "print(neigh_dist)\n",
    "#print(np.asarray(rng[0][0]))\n",
    "print(rng)"
   ]
  },
  {
   "cell_type": "code",
   "execution_count": null,
   "metadata": {
    "collapsed": true
   },
   "outputs": [],
   "source": []
  }
 ],
 "metadata": {
  "kernelspec": {
   "display_name": "Python 3",
   "language": "python",
   "name": "python3"
  },
  "language_info": {
   "codemirror_mode": {
    "name": "ipython",
    "version": 3
   },
   "file_extension": ".py",
   "mimetype": "text/x-python",
   "name": "python",
   "nbconvert_exporter": "python",
   "pygments_lexer": "ipython3",
   "version": "3.4.3"
  }
 },
 "nbformat": 4,
 "nbformat_minor": 0
}
