{
 "cells": [
  {
   "cell_type": "code",
   "execution_count": 13,
   "metadata": {
    "collapsed": true
   },
   "outputs": [],
   "source": [
    "from collections import defaultdict\n",
    "import re\n",
    "\n",
    "\n",
    "def tokenize(message):\n",
    "    \"\"\" Removes all punctuation and returns a simple set\n",
    "    of all the words in the given string (pushed to lower case)\n",
    "    \"\"\"\n",
    "    message = message.lower()\n",
    "    all_words = re.findall(\"[a-z0-9]+\", message)\n",
    "    return set(all_words)\n",
    "\n",
    "\n",
    "def count_words(training_set):\n",
    "    \"\"\" training set consists of pairs (message, is_spam) \"\"\"\n",
    "    counts = defaultdict(lambda: [0, 0])\n",
    "    for message, is_spam in training_set:\n",
    "        for word in tokenize(message):\n",
    "            counts[word][0 if is_spam else 1] += 1\n",
    "    return counts\n"
   ]
  },
  {
   "cell_type": "code",
   "execution_count": 2,
   "metadata": {
    "collapsed": false
   },
   "outputs": [
    {
     "name": "stdout",
     "output_type": "stream",
     "text": [
      "{'glad', 'doing', 'hey', 'to', 'listen', 'blah', 'carolyn', 'how', 'john', 'you', 'things', 'it', 'if', 'are', 'loren', 'ipsum', 'ah', 'hear', 'good', 'can'}\n"
     ]
    }
   ],
   "source": [
    "# Here is a quick test of tokenize\n",
    "\n",
    "mess = \"\"\"Hey Carolyn,\n",
    "How are you doing? Are things good?\n",
    "Things are good? Ah, good. Glad to hear it.\n",
    "Listen if you can loren ipsum, blah blah blah...\n",
    "-John\"\"\"\n",
    "\n",
    "print(tokenize(mess))"
   ]
  },
  {
   "cell_type": "code",
   "execution_count": 32,
   "metadata": {
    "collapsed": false
   },
   "outputs": [],
   "source": [
    "import math\n",
    "\n",
    "\n",
    "def word_probabilities(counts, total_spams, total_non_spams, k=0.5):\n",
    "    \"\"\" turn the word counts into a list of triples:\n",
    "    w, p(w | spam) and p(w | ~spam)\n",
    "    \"\"\"\n",
    "    return [(w,\n",
    "            (spam + k) / (total_spams + 2 * k),\n",
    "            (non_spam + k) / (total_non_spams + 2 * k))\n",
    "            for w, (spam, non_spam) in counts.items()]\n",
    "\n",
    "\n",
    "def log(real):\n",
    "    try:\n",
    "        return math.log(real)\n",
    "    except:\n",
    "        return 0.0\n",
    "\n",
    "\n",
    "def spam_probability(word_probs, message):\n",
    "    message_words = tokenize(message)\n",
    "    log_prob_if_spam = log_prob_if_not_spam = 0.0\n",
    "    \n",
    "    # iterate through each word in our vocab\n",
    "    for word, prob_if_spam, prob_if_not_spam in word_probs:\n",
    "        if word in message_words:\n",
    "            # if \"word\" in message, add the log prob of seeing it\n",
    "            log_prob_if_spam += log(prob_if_spam)\n",
    "            log_prob_if_not_spam += log(prob_if_not_spam)\n",
    "        else:\n",
    "            # if \"word\" not in message, ad log prob of Not seeing it\n",
    "            log_prob_if_spam += log(1.0 - prob_if_spam)\n",
    "            log_prob_if_not_spam += log(1.0 - prob_if_not_spam)\n",
    "        \n",
    "    prob_if_spam = math.exp(log_prob_if_spam)\n",
    "    prob_if_not_spam = math.exp(log_prob_if_not_spam)\n",
    "\n",
    "    return prob_if_spam / (prob_if_spam + prob_if_not_spam)\n",
    "\n",
    "\n",
    "class NaiveBayesClassifier:\n",
    "    \n",
    "    def __init__(self, k=0.5):\n",
    "        self.k = k\n",
    "        self.word_probs = []\n",
    "    \n",
    "    def train(self, training_set):\n",
    "        \"\"\"train the classifier\"\"\"\n",
    "        # count spam and non-spam messages\n",
    "        num_spams = len([is_spam for message, is_spam in training_set if is_spam])\n",
    "        num_non_spams = len(training_set) - num_spams\n",
    "        \n",
    "        # run training data through our \"pipeline\"\n",
    "        word_counts = count_words(training_set)\n",
    "        self.word_probs = word_probabilities(word_counts,\n",
    "                                             num_spams,\n",
    "                                             num_non_spams,\n",
    "                                             self.k)\n",
    "    \n",
    "    def classify(self, message):\n",
    "        return spam_probability(self.word_probs, message)\n",
    "\n"
   ]
  },
  {
   "cell_type": "code",
   "execution_count": 33,
   "metadata": {
    "collapsed": false
   },
   "outputs": [
    {
     "name": "stdout",
     "output_type": "stream",
     "text": [
      "4013\n"
     ]
    }
   ],
   "source": [
    "\"\"\" We want a lot of test spam emails. The good folks at Apache have us covered:\n",
    "https://spamassassin.apache.org/publiccorpus/\n",
    "\"\"\"\n",
    "import glob\n",
    "import re\n",
    "\n",
    "path = 'emails/*/*'\n",
    "data = []\n",
    "\n",
    "# glob.glob returns file names in a path, allowing for wild cards\n",
    "for file_path in glob.glob(path):\n",
    "    is_spam = 'ham' not in file_path\n",
    "\n",
    "    with open(file_path, 'r', encoding='utf-8') as f:\n",
    "        try:\n",
    "            for line in f:\n",
    "                if line.startswith('Subject:'):\n",
    "                    subject = re.sub(r\"^Subject: \", \"\", line).strip()\n",
    "                    data.append((subject, is_spam))\n",
    "        except:\n",
    "            # some of these files have bizarre encodings, ignore them\n",
    "            pass\n",
    "\n",
    "# TODO: Learn to deal with UTF-8 text files in Python v3:\n",
    "#       http://stackoverflow.com/questions/11918512/python-unicodedecodeerror-utf8-codec-cant-decode-byte\n",
    "\n",
    "print(len(data))"
   ]
  },
  {
   "cell_type": "code",
   "execution_count": 34,
   "metadata": {
    "collapsed": false
   },
   "outputs": [],
   "source": [
    "\"\"\" Now let's split our data up into training data and test data.\n",
    "Let's go for a 3:1 ratio.\n",
    "\"\"\"\n",
    "from random import random\n",
    "\n",
    "\n",
    "def split_data(data, prob):\n",
    "    \"\"\"split data into fractions [prob, 1 -prob]\"\"\"\n",
    "    results = [], []\n",
    "    for row in data:\n",
    "        results[0 if random() < prob else 1].append(row)\n",
    "    return results\n",
    "\n",
    "\n",
    "train_data, test_data = split_data(data, 0.75)\n",
    "classifier = NaiveBayesClassifier()\n",
    "classifier.train(train_data)"
   ]
  },
  {
   "cell_type": "code",
   "execution_count": 48,
   "metadata": {
    "collapsed": false
   },
   "outputs": [
    {
     "name": "stdout",
     "output_type": "stream",
     "text": [
      "\n",
      "Assume >50% means spam:\n",
      "Counter({(False, False): 639, (True, True): 277, (False, True): 76, (True, False): 45})\n",
      "Precision: 0.86\n",
      "Recall: 0.30\n",
      "Accuracy: 0.88\n",
      "F1 Score: 0.45\n",
      "\n",
      "Assume >75% means spam:\n",
      "Counter({(False, False): 671, (True, True): 255, (True, False): 67, (False, True): 44})\n",
      "Precision: 0.79\n",
      "Recall: 0.28\n",
      "Accuracy: 0.89\n",
      "F1 Score: 0.41\n",
      "\n",
      "Assume >95% means spam:\n",
      "Counter({(False, False): 700, (True, True): 217, (True, False): 105, (False, True): 15})\n",
      "Precision: 0.67\n",
      "Recall: 0.24\n",
      "Accuracy: 0.88\n",
      "F1 Score: 0.35\n"
     ]
    }
   ],
   "source": [
    "\"\"\" Now let's see how well are model is doing. \"\"\"\n",
    "from collections import Counter\n",
    "\n",
    "# triplets (subject, actual is_spam, predicted spam probability)\n",
    "classified = [(subject, is_spam, classifier.classify(subject)) for subject, is_spam in test_data]\n",
    "\n",
    "# assume that spam_probability > 0.5 corresponds to correct prediction (this is a bit iffy)\n",
    "counts50 = Counter((is_spam, spam_probability > 0.5) for _, is_spam, spam_probability in classified)\n",
    "\n",
    "print('\\nAssume >50% means spam:')\n",
    "print(counts50)\n",
    "precision50 = counts50[(True, True)] / (counts50[(True, True)] + counts50[(True, False)])\n",
    "recall50 = counts50[(True, True)] / (counts50[(True, True)] + counts50[(False, False)])\n",
    "accuracy50 = (counts50[(True, True)] + counts50[(False, False)]) / (sum(counts50.values()))\n",
    "f1_50 = 2 * precision50 * recall50 / (precision50 + recall50)\n",
    "print('Precision: ' + '%.2f' % precision50)\n",
    "print('Recall: ' + '%.2f' % recall50)\n",
    "print('Accuracy: ' + '%.2f' % accuracy50)\n",
    "print('F1 Score: ' + '%.2f' % f1_50)\n",
    "\n",
    "# assume that spam_probability > 0.75 corresponds to correct prediction (this is a bit iffy)\n",
    "counts75 = Counter((is_spam, spam_probability > 0.75) for _, is_spam, spam_probability in classified)\n",
    "\n",
    "print('\\nAssume >75% means spam:')\n",
    "print(counts75)\n",
    "precision75 = counts75[(True, True)] / (counts75[(True, True)] + counts75[(True, False)])\n",
    "recall75 = counts75[(True, True)] / (counts75[(True, True)] + counts75[(False, False)])\n",
    "accuracy75 = (counts75[(True, True)] + counts75[(False, False)]) / (sum(counts75.values()))\n",
    "f1_75 = 2 * precision75 * recall75 / (precision75 + recall75)\n",
    "print('Precision: ' + '%.2f' % precision75)\n",
    "print('Recall: ' + '%.2f' % recall75)\n",
    "print('Accuracy: ' + '%.2f' % accuracy75)\n",
    "print('F1 Score: ' + '%.2f' % f1_75)\n",
    "\n",
    "# assume that spam_probability > 0.95 corresponds to correct prediction (this is a bit iffy)\n",
    "counts95 = Counter((is_spam, spam_probability > 0.95) for _, is_spam, spam_probability in classified)\n",
    "\n",
    "print('\\nAssume >95% means spam:')\n",
    "print(counts95)\n",
    "precision95 = counts95[(True, True)] / (counts95[(True, True)] + counts95[(True, False)])\n",
    "recall95 = counts95[(True, True)] / (counts95[(True, True)] + counts95[(False, False)])\n",
    "accuracy95 = (counts95[(True, True)] + counts95[(False, False)]) / (sum(counts95.values()))\n",
    "f1_95 = 2 * precision95 * recall95 / (precision95 + recall95)\n",
    "print('Precision: ' + '%.2f' % precision95)\n",
    "print('Recall: ' + '%.2f' % recall95)\n",
    "print('Accuracy: ' + '%.2f' % accuracy95)\n",
    "print('F1 Score: ' + '%.2f' % f1_95)"
   ]
  },
  {
   "cell_type": "code",
   "execution_count": 50,
   "metadata": {
    "collapsed": false
   },
   "outputs": [
    {
     "name": "stdout",
     "output_type": "stream",
     "text": [
      "\n",
      "spammiest hams\n",
      "[('EFFector 15.35: ALERT UPDATE: Urge Your Representative to Co-Sponsor the DMCRA!', False, 0.9946757796587216), ('100 not safe for work pics for chicks. WEENERS.', False, 0.9947093032191174), ('FREE SHIPPING! No Minimum Purchase* at Buy.com', False, 0.9994185579056157), ('Four free e-mailers reviewed, Get the gear you need to burn DVDs', False, 0.9996565621379974), ('=?iso-8859-1?Q?Matrox_Parhelia=99_now_available?=', False, 0.9996703814989908)]\n",
      "\n",
      "hammiest spams\n",
      "[('Re: my pic', True, 0.0068014114133052184), ('National Charity Suffering Since 9/11', True, 0.007072518704526144), ('[ILUG] Re: whats up -colonize', True, 0.011051730017039194), ('This is the final test of a', True, 0.011561547086387649), ('Fwd: next Tuesday at 9am', True, 0.013139954451173904)]\n"
     ]
    }
   ],
   "source": [
    "\"\"\" So, what do we learn from the above test?\n",
    "Well, it's impressive that our accuracy is at 88%, after only parsing the\n",
    "subjects of the email. But our F1 scores are less impressive.\n",
    "Let's take a look at the most misclassified.\"\"\"\n",
    "# sort by spam probability from smallest to largest\n",
    "classified.sort(key=lambda row: row[2])\n",
    "\n",
    "# the highest predicted spam probs among the non-spams\n",
    "spammiest_hams = list(filter(lambda row: not row[1], classified))[-5:]\n",
    "\n",
    "# the lowest predicted spam probs among the actual hams\n",
    "hammiest_spams = list(filter(lambda row: row[1], classified))[:5]\n",
    "\n",
    "print('\\nspammiest hams')\n",
    "print(spammiest_hams)\n",
    "\n",
    "print('\\nhammiest spams')\n",
    "print(hammiest_spams)"
   ]
  },
  {
   "cell_type": "code",
   "execution_count": null,
   "metadata": {
    "collapsed": true
   },
   "outputs": [],
   "source": []
  }
 ],
 "metadata": {
  "kernelspec": {
   "display_name": "Python 3",
   "language": "python",
   "name": "python3"
  },
  "language_info": {
   "codemirror_mode": {
    "name": "ipython",
    "version": 3
   },
   "file_extension": ".py",
   "mimetype": "text/x-python",
   "name": "python",
   "nbconvert_exporter": "python",
   "pygments_lexer": "ipython3",
   "version": "3.4.3"
  }
 },
 "nbformat": 4,
 "nbformat_minor": 0
}
