{
 "cells": [
  {
   "cell_type": "code",
   "execution_count": 1,
   "metadata": {
    "collapsed": true
   },
   "outputs": [],
   "source": [
    "from collections import defaultdict\n",
    "import re\n",
    "\n",
    "\n",
    "def tokenize(message):\n",
    "    \"\"\" Removes all punctuation and returns a simple set\n",
    "    of all the words in the given string (pushed to lower case)\n",
    "    \"\"\"\n",
    "    message = message.lower()\n",
    "    all_words = re.findall(\"[a-z0-9]+\", message)\n",
    "    return set(all_words)\n",
    "\n",
    "\n",
    "def count_words(training_set):\n",
    "    \"\"\" training set consists of pairs (message, is_spam) \"\"\"\n",
    "    counts = defaultdict(lambda: [0, 0])\n",
    "    for message, is_spam in training_set:\n",
    "        for word in tokenize(message):\n",
    "            counts[word][0 if is_spam else 1] += 1\n",
    "    return counts\n"
   ]
  },
  {
   "cell_type": "code",
   "execution_count": 2,
   "metadata": {
    "collapsed": false
   },
   "outputs": [
    {
     "name": "stdout",
     "output_type": "stream",
     "text": [
      "{'ah', 'glad', 'listen', 'good', 'if', 'it', 'loren', 'blah', 'hey', 'how', 'emmy', 'can', 'are', 'john', 'doing', 'to', 'things', 'ipsum', 'you', 'hear'}\n"
     ]
    }
   ],
   "source": [
    "# Here is a quick test of tokenize\n",
    "\n",
    "mess = \"\"\"Hey Emmy,\n",
    "How are you doing? Are things good?\n",
    "Things are good? Ah, good. Glad to hear it.\n",
    "Listen if you can loren ipsum, blah blah blah...\n",
    "-John\"\"\"\n",
    "\n",
    "print(tokenize(mess))"
   ]
  },
  {
   "cell_type": "code",
   "execution_count": 3,
   "metadata": {
    "collapsed": false
   },
   "outputs": [],
   "source": [
    "import math\n",
    "\n",
    "\n",
    "def word_probabilities(counts, total_spams, total_non_spams, k=0.5):\n",
    "    \"\"\" turn the word counts into a list of triples:\n",
    "    w, p(w | spam) and p(w | ~spam)\n",
    "    \"\"\"\n",
    "    return [(w,\n",
    "            (spam + k) / (total_spams + 2 * k),\n",
    "            (non_spam + k) / (total_non_spams + 2 * k))\n",
    "            for w, (spam, non_spam) in counts.items()]\n",
    "\n",
    "\n",
    "def log(real):\n",
    "    try:\n",
    "        return math.log(real)\n",
    "    except:\n",
    "        return 0.0\n",
    "\n",
    "\n",
    "def spam_probability(word_probs, message):\n",
    "    message_words = tokenize(message)\n",
    "    log_prob_if_spam = log_prob_if_not_spam = 0.0\n",
    "    \n",
    "    # iterate through each word in our vocab\n",
    "    for word, prob_if_spam, prob_if_not_spam in word_probs:\n",
    "        if word in message_words:\n",
    "            # if \"word\" in message, add the log prob of seeing it\n",
    "            log_prob_if_spam += log(prob_if_spam)\n",
    "            log_prob_if_not_spam += log(prob_if_not_spam)\n",
    "        else:\n",
    "            # if \"word\" not in message, ad log prob of Not seeing it\n",
    "            log_prob_if_spam += log(1.0 - prob_if_spam)\n",
    "            log_prob_if_not_spam += log(1.0 - prob_if_not_spam)\n",
    "        \n",
    "    prob_if_spam = math.exp(log_prob_if_spam)\n",
    "    prob_if_not_spam = math.exp(log_prob_if_not_spam)\n",
    "\n",
    "    return prob_if_spam / (prob_if_spam + prob_if_not_spam)\n",
    "\n",
    "\n",
    "class NaiveBayesClassifier:\n",
    "    \n",
    "    def __init__(self, k=0.5):\n",
    "        self.k = k\n",
    "        self.word_probs = []\n",
    "    \n",
    "    def train(self, training_set):\n",
    "        \"\"\"train the classifier\"\"\"\n",
    "        # count spam and non-spam messages\n",
    "        num_spams = len([is_spam for message, is_spam in training_set if is_spam])\n",
    "        num_non_spams = len(training_set) - num_spams\n",
    "        \n",
    "        # run training data through our \"pipeline\"\n",
    "        word_counts = count_words(training_set)\n",
    "        self.word_probs = word_probabilities(word_counts,\n",
    "                                             num_spams,\n",
    "                                             num_non_spams,\n",
    "                                             self.k)\n",
    "    \n",
    "    def classify(self, message):\n",
    "        return spam_probability(self.word_probs, message)\n",
    "\n"
   ]
  },
  {
   "cell_type": "code",
   "execution_count": 4,
   "metadata": {
    "collapsed": false
   },
   "outputs": [
    {
     "name": "stdout",
     "output_type": "stream",
     "text": [
      "4013\n"
     ]
    }
   ],
   "source": [
    "\"\"\" We want a lot of test spam emails. The good folks at Apache have us covered:\n",
    "https://spamassassin.apache.org/publiccorpus/\n",
    "\"\"\"\n",
    "import glob\n",
    "import re\n",
    "\n",
    "path = 'emails/*/*'\n",
    "data = []\n",
    "\n",
    "# glob.glob returns file names in a path, allowing for wild cards\n",
    "for file_path in glob.glob(path):\n",
    "    is_spam = 'ham' not in file_path\n",
    "\n",
    "    with open(file_path, 'r', encoding='utf-8') as f:\n",
    "        try:\n",
    "            for line in f:\n",
    "                if line.startswith('Subject:'):\n",
    "                    subject = re.sub(r\"^Subject: \", \"\", line).strip()\n",
    "                    data.append((subject, is_spam))\n",
    "        except:\n",
    "            # some of these files have bizarre encodings, ignore them\n",
    "            pass\n",
    "\n",
    "# TODO: Learn to deal with UTF-8 text files in Python v3:\n",
    "#       http://stackoverflow.com/questions/11918512/python-unicodedecodeerror-utf8-codec-cant-decode-byte\n",
    "\n",
    "print(len(data))"
   ]
  },
  {
   "cell_type": "code",
   "execution_count": 5,
   "metadata": {
    "collapsed": false
   },
   "outputs": [],
   "source": [
    "\"\"\" Now let's split our data up into training data and test data.\n",
    "Let's go for a 3:1 ratio.\n",
    "\"\"\"\n",
    "from random import random\n",
    "\n",
    "\n",
    "def split_data(data, prob):\n",
    "    \"\"\"split data into fractions [prob, 1 -prob]\"\"\"\n",
    "    results = [], []\n",
    "    for row in data:\n",
    "        results[0 if random() < prob else 1].append(row)\n",
    "    return results\n",
    "\n",
    "\n",
    "train_data, test_data = split_data(data, 0.75)\n",
    "classifier = NaiveBayesClassifier()\n",
    "classifier.train(train_data)"
   ]
  },
  {
   "cell_type": "code",
   "execution_count": 6,
   "metadata": {
    "collapsed": false
   },
   "outputs": [
    {
     "name": "stdout",
     "output_type": "stream",
     "text": [
      "\n",
      "Assume >50% means spam:\n",
      "Counter({(False, False): 628, (True, True): 290, (False, True): 67, (True, False): 38})\n",
      "Precision: 0.88\n",
      "Recall: 0.32\n",
      "Accuracy: 0.90\n",
      "F1 Score: 0.47\n",
      "\n",
      "Assume >75% means spam:\n",
      "Counter({(False, False): 661, (True, True): 264, (True, False): 64, (False, True): 34})\n",
      "Precision: 0.80\n",
      "Recall: 0.29\n",
      "Accuracy: 0.90\n",
      "F1 Score: 0.42\n",
      "\n",
      "Assume >95% means spam:\n",
      "Counter({(False, False): 683, (True, True): 221, (True, False): 107, (False, True): 12})\n",
      "Precision: 0.67\n",
      "Recall: 0.24\n",
      "Accuracy: 0.88\n",
      "F1 Score: 0.36\n"
     ]
    }
   ],
   "source": [
    "\"\"\" Now let's see how well are model is doing. \"\"\"\n",
    "from collections import Counter\n",
    "\n",
    "# triplets (subject, actual is_spam, predicted spam probability)\n",
    "classified = [(subject, is_spam, classifier.classify(subject)) for subject, is_spam in test_data]\n",
    "\n",
    "# assume that spam_probability > 0.5 corresponds to correct prediction (this is a bit iffy)\n",
    "counts50 = Counter((is_spam, spam_probability > 0.5) for _, is_spam, spam_probability in classified)\n",
    "\n",
    "print('\\nAssume >50% means spam:')\n",
    "print(counts50)\n",
    "precision50 = counts50[(True, True)] / (counts50[(True, True)] + counts50[(True, False)])\n",
    "recall50 = counts50[(True, True)] / (counts50[(True, True)] + counts50[(False, False)])\n",
    "accuracy50 = (counts50[(True, True)] + counts50[(False, False)]) / (sum(counts50.values()))\n",
    "f1_50 = 2 * precision50 * recall50 / (precision50 + recall50)\n",
    "print('Precision: ' + '%.2f' % precision50)\n",
    "print('Recall: ' + '%.2f' % recall50)\n",
    "print('Accuracy: ' + '%.2f' % accuracy50)\n",
    "print('F1 Score: ' + '%.2f' % f1_50)\n",
    "\n",
    "# assume that spam_probability > 0.75 corresponds to correct prediction (this is a bit iffy)\n",
    "counts75 = Counter((is_spam, spam_probability > 0.75) for _, is_spam, spam_probability in classified)\n",
    "\n",
    "print('\\nAssume >75% means spam:')\n",
    "print(counts75)\n",
    "precision75 = counts75[(True, True)] / (counts75[(True, True)] + counts75[(True, False)])\n",
    "recall75 = counts75[(True, True)] / (counts75[(True, True)] + counts75[(False, False)])\n",
    "accuracy75 = (counts75[(True, True)] + counts75[(False, False)]) / (sum(counts75.values()))\n",
    "f1_75 = 2 * precision75 * recall75 / (precision75 + recall75)\n",
    "print('Precision: ' + '%.2f' % precision75)\n",
    "print('Recall: ' + '%.2f' % recall75)\n",
    "print('Accuracy: ' + '%.2f' % accuracy75)\n",
    "print('F1 Score: ' + '%.2f' % f1_75)\n",
    "\n",
    "# assume that spam_probability > 0.95 corresponds to correct prediction (this is a bit iffy)\n",
    "counts95 = Counter((is_spam, spam_probability > 0.95) for _, is_spam, spam_probability in classified)\n",
    "\n",
    "print('\\nAssume >95% means spam:')\n",
    "print(counts95)\n",
    "precision95 = counts95[(True, True)] / (counts95[(True, True)] + counts95[(True, False)])\n",
    "recall95 = counts95[(True, True)] / (counts95[(True, True)] + counts95[(False, False)])\n",
    "accuracy95 = (counts95[(True, True)] + counts95[(False, False)]) / (sum(counts95.values()))\n",
    "f1_95 = 2 * precision95 * recall95 / (precision95 + recall95)\n",
    "print('Precision: ' + '%.2f' % precision95)\n",
    "print('Recall: ' + '%.2f' % recall95)\n",
    "print('Accuracy: ' + '%.2f' % accuracy95)\n",
    "print('F1 Score: ' + '%.2f' % f1_95)"
   ]
  },
  {
   "cell_type": "code",
   "execution_count": 7,
   "metadata": {
    "collapsed": false
   },
   "outputs": [
    {
     "name": "stdout",
     "output_type": "stream",
     "text": [
      "\n",
      "spammiest hams\n",
      "[('100 not safe for work pics for chicks. WEENERS.', False, 0.9886800829267236), (\"Month by month, 'Most Beautiful Man' winners and their galleries. sfw\", False, 0.9915721334814532), ('Ray Ozzie: \"How long before we see auto pingback generator spambots?\"', False, 0.9976091371596136), (\"Right-wing governments 'increase suicide rates'\", False, 0.9979303630094196), ('=?iso-8859-1?Q?Matrox_Parhelia=99_now_available?=', False, 0.9996298713932731)]\n",
      "\n",
      "hammiest spams\n",
      "[('RE: Own An Automated Shopping Mall                       32736', True, 0.0002947047466527441), ('Re: Funny', True, 0.002334867109411576), ('WOMEN WITH CUM ON THEIR FACE!!!', True, 0.0148153543885132), ('RE: Surprise :-)', True, 0.014817930066454417), ('Fwd: next Tuesday at 9am', True, 0.016280551300562402)]\n"
     ]
    }
   ],
   "source": [
    "\"\"\" So, what do we learn from the above test?\n",
    "Well, it's impressive that our accuracy is at 88%, after only parsing the\n",
    "subjects of the email. But our F1 scores are less impressive.\n",
    "Let's take a look at the most misclassified.\"\"\"\n",
    "# sort by spam probability from smallest to largest\n",
    "classified.sort(key=lambda row: row[2])\n",
    "\n",
    "# the highest predicted spam probs among the non-spams\n",
    "spammiest_hams = list(filter(lambda row: not row[1], classified))[-5:]\n",
    "\n",
    "# the lowest predicted spam probs among the actual hams\n",
    "hammiest_spams = list(filter(lambda row: row[1], classified))[:5]\n",
    "\n",
    "print('\\nspammiest hams')\n",
    "print(spammiest_hams)\n",
    "\n",
    "print('\\nhammiest spams')\n",
    "print(hammiest_spams)"
   ]
  },
  {
   "cell_type": "code",
   "execution_count": 8,
   "metadata": {
    "collapsed": false
   },
   "outputs": [
    {
     "name": "stdout",
     "output_type": "stream",
     "text": [
      "352\n"
     ]
    }
   ],
   "source": [
    "\"\"\" Okay, now let's try training on the actual bodies of all these emails.\n",
    "This is an experiment.\n",
    "\"\"\"\n",
    "\n",
    "def find_tags(file_path):\n",
    "    \"\"\"Parse an email to get a set of header tags.\"\"\"\n",
    "    tags = set()\n",
    "    f = open(file_path, 'r')\n",
    "    for line in f.readlines():\n",
    "        if line.strip() == '': break\n",
    "        if line[0] in ['>', '<']: break\n",
    "        if ':' in line[:32] and ' ' not in line[:32].split(':')[0]:\n",
    "            tags.add(line.split(':')[0])\n",
    "    \n",
    "    f.close()\n",
    "    return tags\n",
    "\n",
    "\n",
    "tags = set()\n",
    "path = 'emails/*/*'\n",
    "files = glob.glob(path)\n",
    "\n",
    "files = glob.glob(path)\n",
    "for file_path in files:\n",
    "    try:\n",
    "        tags.update(find_tags(file_path))\n",
    "    except:\n",
    "        # There are UTF-8 non-compliant emails, I'm just ignoring them for now.\n",
    "        pass\n",
    "\n",
    "print(len(tags))"
   ]
  },
  {
   "cell_type": "code",
   "execution_count": 42,
   "metadata": {
    "collapsed": false
   },
   "outputs": [],
   "source": [
    "def tokenize_email_line(message):\n",
    "    all_words = re.findall(\"[a-z]+\", message.lower())\n",
    "    return set(all_words)\n",
    "\n",
    "\n",
    "def tokenize_email(body, tags):\n",
    "    text = set()\n",
    "    header = True\n",
    "    for line in body.split('\\n')[1:]:\n",
    "        if header:\n",
    "            if line[0] in [' ', '\\t']:\n",
    "                continue\n",
    "            elif ':' not in line:\n",
    "                header = False\n",
    "            elif line.split(':')[0] in tags:\n",
    "                continue\n",
    "        else:\n",
    "            text.update(tokenize_email_line(line))\n",
    "\n",
    "    return set(text)\n",
    "\n",
    "\n",
    "def count_words_email(training_set):\n",
    "    \"\"\" training set consists of pairs (message, is_spam) \"\"\"\n",
    "    counts = defaultdict(lambda: [0, 0])\n",
    "    for message, is_spam in training_set:\n",
    "        for word in tokenize_email(message, tags):\n",
    "            counts[word][0 if is_spam else 1] += 1\n",
    "    return counts\n",
    "\n",
    "\n",
    "def spam_probability_email(word_probs, message):\n",
    "    message_words = tokenize_email(message, tags)\n",
    "    log_prob_if_spam = log_prob_if_not_spam = 0.0\n",
    "    \n",
    "    # iterate through each word in our vocab\n",
    "    for word, prob_if_spam, prob_if_not_spam in word_probs:\n",
    "        if word in message_words:\n",
    "            # if \"word\" in message, add the log prob of seeing it\n",
    "            log_prob_if_spam += log(prob_if_spam)\n",
    "            log_prob_if_not_spam += log(prob_if_not_spam)\n",
    "        else:\n",
    "            # if \"word\" not in message, ad log prob of Not seeing it\n",
    "            log_prob_if_spam += log(1.0 - prob_if_spam)\n",
    "            log_prob_if_not_spam += log(1.0 - prob_if_not_spam)\n",
    "        \n",
    "    prob_if_spam = math.exp(log_prob_if_spam)\n",
    "    prob_if_not_spam = math.exp(log_prob_if_not_spam)\n",
    "\n",
    "    return prob_if_spam / (prob_if_spam + prob_if_not_spam)\n",
    "\n",
    "\n",
    "class NaiveBayesClassifierEmail(NaiveBayesClassifier):\n",
    "    \n",
    "    def __init__(self, k=0.5):\n",
    "        NaiveBayesClassifier.__init__(self, k)\n",
    "    \n",
    "    def train(self, training_set):\n",
    "        \"\"\"train the classifier\"\"\"\n",
    "        # count spam and non-spam messages\n",
    "        num_spams = len([is_spam for message, is_spam in training_set if is_spam])\n",
    "        num_non_spams = len(training_set) - num_spams\n",
    "        \n",
    "        # run training data through our \"pipeline\"\n",
    "        word_counts = count_words_email(training_set)\n",
    "        self.word_probs = word_probabilities(word_counts,\n",
    "                                             num_spams,\n",
    "                                             num_non_spams,\n",
    "                                             self.k)\n",
    "    \n",
    "    def classify(self, message):\n",
    "        return spam_probability_email(self.word_probs, message)\n"
   ]
  },
  {
   "cell_type": "code",
   "execution_count": 43,
   "metadata": {
    "collapsed": false
   },
   "outputs": [
    {
     "name": "stdout",
     "output_type": "stream",
     "text": [
      "1753647\n"
     ]
    }
   ],
   "source": [
    "\"\"\"Time to train on the bodies of the emails.\"\"\"\n",
    "\n",
    "path = 'emails/*/*'\n",
    "data2 = []\n",
    "\n",
    "# glob.glob returns file names in a path, allowing for wild cards\n",
    "for file_path in glob.glob(path):\n",
    "    is_spam = 'ham' not in file_path\n",
    "    \n",
    "    with open(file_path, 'r', encoding='utf-8') as f:\n",
    "        try:\n",
    "            text = set()\n",
    "            _ = f.readline()\n",
    "            header = True\n",
    "            for line in f.readlines():\n",
    "                if header:\n",
    "                    if line[0] in [' ', '\\t']:\n",
    "                        continue\n",
    "                    elif ':' not in line:\n",
    "                        header = False\n",
    "                    elif line.split(':')[0] in tags:\n",
    "                        continue\n",
    "                else:\n",
    "                    for word in tokenize_email_line(line):\n",
    "                        data2.append((word, is_spam))\n",
    "        except:\n",
    "            # some of these files have bizarre encodings, ignore them\n",
    "            pass\n",
    "\n",
    "print(len(data2))\n",
    "\n",
    "\n",
    "train_data2, test_data2 = split_data(data2, 0.75)\n",
    "classifier2 = NaiveBayesClassifierEmail()\n",
    "classifier2.train(train_data2)"
   ]
  },
  {
   "cell_type": "code",
   "execution_count": 44,
   "metadata": {
    "collapsed": false
   },
   "outputs": [
    {
     "name": "stdout",
     "output_type": "stream",
     "text": [
      "\n",
      "Assume >50% means spam:\n",
      "Counter({(False, False): 254584, (True, False): 184465})\n",
      "Precision: 0.00\n",
      "Recall: 0.00\n",
      "Accuracy: 0.58\n"
     ]
    }
   ],
   "source": [
    "# triplets (subject, actual is_spam, predicted spam probability)\n",
    "classified = [(subject, is_spam, classifier2.classify(subject)) for subject, is_spam in test_data2]\n",
    "\n",
    "# assume that spam_probability > 0.5 corresponds to correct prediction (this is a bit iffy)\n",
    "counts50 = Counter((is_spam, spam_probability > 0.5) for _, is_spam, spam_probability in classified)\n",
    "\n",
    "print('\\nAssume >50% means spam:')\n",
    "print(counts50)\n",
    "precision50 = counts50[(True, True)] / (counts50[(True, True)] + counts50[(True, False)])\n",
    "recall50 = counts50[(True, True)] / (counts50[(True, True)] + counts50[(False, False)])\n",
    "accuracy50 = (counts50[(True, True)] + counts50[(False, False)]) / (sum(counts50.values()))\n",
    "#f1_50 = 2 * precision50 * recall50 / (precision50 + recall50)\n",
    "print('Precision: ' + '%.2f' % precision50)\n",
    "print('Recall: ' + '%.2f' % recall50)\n",
    "print('Accuracy: ' + '%.2f' % accuracy50)\n",
    "#print('F1 Score: ' + '%.2f' % f1_50)\n"
   ]
  },
  {
   "cell_type": "code",
   "execution_count": 38,
   "metadata": {
    "collapsed": false
   },
   "outputs": [
    {
     "name": "stdout",
     "output_type": "stream",
     "text": [
      "457908\n",
      "186551\n"
     ]
    }
   ],
   "source": [
    "print(len(test_data2))\n",
    "print(len([t for t in test_data2 if t[1]]))"
   ]
  },
  {
   "cell_type": "code",
   "execution_count": null,
   "metadata": {
    "collapsed": true
   },
   "outputs": [],
   "source": []
  }
 ],
 "metadata": {
  "kernelspec": {
   "display_name": "Python 3",
   "language": "python",
   "name": "python3"
  },
  "language_info": {
   "codemirror_mode": {
    "name": "ipython",
    "version": 3
   },
   "file_extension": ".py",
   "mimetype": "text/x-python",
   "name": "python",
   "nbconvert_exporter": "python",
   "pygments_lexer": "ipython3",
   "version": "3.4.3"
  }
 },
 "nbformat": 4,
 "nbformat_minor": 0
}
