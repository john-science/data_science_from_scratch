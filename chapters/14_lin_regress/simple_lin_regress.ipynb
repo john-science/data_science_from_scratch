{
 "cells": [
  {
   "cell_type": "code",
   "execution_count": 35,
   "metadata": {
    "collapsed": true
   },
   "outputs": [],
   "source": [
    "\"\"\"First, some basic stats from chapter 5\"\"\"\n",
    "from math import sqrt\n",
    "\n",
    "def mean(x):\n",
    "    '''geometric average'''\n",
    "    return sum(x) / len(x)\n",
    "\n",
    "\n",
    "def de_mean(x):\n",
    "    '''translate x by subtracting its mean (so the result has mean 0)'''\n",
    "    x_bar = mean(x)\n",
    "    return [x_i - x_bar for x_i in x]\n",
    "\n",
    "\n",
    "def sum_of_squares(x):\n",
    "    return sum([f * f for f in x])\n",
    "\n",
    "\n",
    "def variance(x):\n",
    "    '''assumes x has at least two elements'''\n",
    "    n = len(x)\n",
    "    deviations = de_mean(x)\n",
    "    return sum_of_squares(deviations) / (n - 1)\n",
    "\n",
    "\n",
    "def standard_deviation(x):\n",
    "    return sqrt(variance(x))\n",
    "\n",
    "\n",
    "def dot(v, w):\n",
    "    '''the sum of the product of the matching elements\n",
    "    of the input vectors'''\n",
    "    return sum(v_i * w_i for v_i,w_i in zip(v, w))\n",
    "\n",
    "\n",
    "# a large covariance means that x tends to be large when y is small\n",
    "def covariance(x, y):\n",
    "    n = len(x)\n",
    "    return dot(de_mean(x), de_mean(y)) / (n - 1)\n",
    "\n",
    "\n",
    "'''Correlation lies between -1 (perfect anti-correlation) and 1 (perfect correlation)'''\n",
    "def correlation(x, y):\n",
    "    stdev_x = standard_deviation(x)\n",
    "    stdev_y = standard_deviation(y)\n",
    "    if stdev_x > 0 and stdev_y > 0:\n",
    "        return covariance(x, y) / stdev_x / stdev_y\n",
    "    else:\n",
    "        return  0\n",
    "\n",
    "    \n",
    "\"\"\"Now we'll get into the fitting logic.\"\"\"\n",
    "\n",
    "\n",
    "def predict(alpha, beta, x_i):\n",
    "    return beta * x_i + alpha\n",
    "\n",
    "\n",
    "def error(alpha, beta, x_i, y_i):\n",
    "    return y_i - predict(alpha, beta, x_i)\n",
    "\n",
    "\n",
    "def sum_of_squared_errors(alpha, beta, x, y):\n",
    "    return sum(error(alpha, beta, x_i, y_i) ** 2 for x_i, y_i in zip(x, y))\n",
    "\n",
    "\n",
    "def least_squares_fit(x, y):\n",
    "    beta = correlation(x, y) * standard_deviation(y) / standard_deviation(x)\n",
    "    alpha = mean(y) - beta * mean(x)\n",
    "    return alpha, beta"
   ]
  },
  {
   "cell_type": "code",
   "execution_count": 28,
   "metadata": {
    "collapsed": false
   },
   "outputs": [
    {
     "data": {
      "image/png": "[encoded data removed]",
      "text/plain": [
       "<matplotlib.figure.Figure at 0x7f27600e4be0>"
      ]
     },
     "metadata": {},
     "output_type": "display_data"
    }
   ],
   "source": [
    "\"\"\"Now let's mock up some data to fit\"\"\"\n",
    "%matplotlib inline\n",
    "from matplotlib import pyplot as plt\n",
    "from numpy.random import poisson\n",
    "from random import random\n",
    "from collections import Counter\n",
    "\n",
    "# our fake data\n",
    "x = list(poisson(7, 53)) + list(poisson(17, 47)) + list(poisson(42, 17)) + list(poisson(72, 7)) + [99]\n",
    "y = [1.1415926535 * v + 42.0 + (-17.0 + 34.0 * random()) for v in x]\n",
    "\n",
    "# and now let's plot it\n",
    "plt.scatter(x, y, edgecolor='none', color='r')\n",
    "plt.axis([0, max(x), min(y), max(y)])\n",
    "plt.show()"
   ]
  },
  {
   "cell_type": "code",
   "execution_count": 30,
   "metadata": {
    "collapsed": false
   },
   "outputs": [
    {
     "name": "stdout",
     "output_type": "stream",
     "text": [
      "42.7846474368 1.15449495267\n"
     ]
    }
   ],
   "source": [
    "alpha, beta = least_squares_fit(x, y)\n",
    "print (alpha, beta)"
   ]
  },
  {
   "cell_type": "code",
   "execution_count": 32,
   "metadata": {
    "collapsed": false
   },
   "outputs": [
    {
     "data": {
      "image/png": "[encoded data removed]",
      "text/plain": [
       "<matplotlib.figure.Figure at 0x7f275bf63cc0>"
      ]
     },
     "metadata": {},
     "output_type": "display_data"
    }
   ],
   "source": [
    "# and now let's the data and the fit\n",
    "plt.scatter(x, y, edgecolor='none', color='r')\n",
    "plt.plot(x, [beta * v + alpha for v in x], color='b')\n",
    "plt.axis([0, max(x), min(y), max(y)])\n",
    "plt.show()"
   ]
  },
  {
   "cell_type": "code",
   "execution_count": 38,
   "metadata": {
    "collapsed": false
   },
   "outputs": [
    {
     "name": "stdout",
     "output_type": "stream",
     "text": [
      "0.83059789813\n"
     ]
    }
   ],
   "source": [
    "def sum_of_squared_deviations(y):\n",
    "    \"\"\"the total variation squared of y from the mean\"\"\"\n",
    "    return sum(v**2 for v in de_mean(y))\n",
    "\n",
    "\n",
    "def r_squared(alpha, beta, x, y):\n",
    "    \"\"\"The fraction of the variation in y captured by the model,\n",
    "    which equals 1 - the fraction of variation in y not captured\n",
    "    by the model.\"\"\"\n",
    "    return 1.0 - (sum_of_squared_errors(alpha, beta, x, y) /\n",
    "                  sum_of_squared_deviations(y))\n",
    "\n",
    "\n",
    "print(r_squared(alpha, beta, x, y))"
   ]
  },
  {
   "cell_type": "code",
   "execution_count": null,
   "metadata": {
    "collapsed": true
   },
   "outputs": [],
   "source": []
  }
 ],
 "metadata": {
  "kernelspec": {
   "display_name": "Python 3",
   "language": "python",
   "name": "python3"
  },
  "language_info": {
   "codemirror_mode": {
    "name": "ipython",
    "version": 3
   },
   "file_extension": ".py",
   "mimetype": "text/x-python",
   "name": "python",
   "nbconvert_exporter": "python",
   "pygments_lexer": "ipython3",
   "version": "3.4.3"
  }
 },
 "nbformat": 4,
 "nbformat_minor": 0
}
