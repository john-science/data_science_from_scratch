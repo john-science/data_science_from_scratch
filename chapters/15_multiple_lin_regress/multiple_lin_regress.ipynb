{
 "cells": [
  {
   "cell_type": "code",
   "execution_count": 1,
   "metadata": {
    "collapsed": true
   },
   "outputs": [],
   "source": [
    "\"\"\"First, some basic stats from chapter 5\"\"\"\n",
    "from math import sqrt\n",
    "\n",
    "def mean(x):\n",
    "    '''geometric average'''\n",
    "    return sum(x) / len(x)\n",
    "\n",
    "\n",
    "def de_mean(x):\n",
    "    '''translate x by subtracting its mean (so the result has mean 0)'''\n",
    "    x_bar = mean(x)\n",
    "    return [x_i - x_bar for x_i in x]\n",
    "\n",
    "\n",
    "def sum_of_squares(x):\n",
    "    return sum([f * f for f in x])\n",
    "\n",
    "\n",
    "def variance(x):\n",
    "    '''assumes x has at least two elements'''\n",
    "    n = len(x)\n",
    "    deviations = de_mean(x)\n",
    "    return sum_of_squares(deviations) / (n - 1)\n",
    "\n",
    "\n",
    "def standard_deviation(x):\n",
    "    return sqrt(variance(x))\n",
    "\n",
    "\n",
    "def dot(v, w):\n",
    "    '''the sum of the product of the matching elements\n",
    "    of the input vectors'''\n",
    "    return sum(v_i * w_i for v_i,w_i in zip(v, w))\n",
    "\n",
    "\n",
    "# a large covariance means that x tends to be large when y is small\n",
    "def covariance(x, y):\n",
    "    n = len(x)\n",
    "    return dot(de_mean(x), de_mean(y)) / (n - 1)\n",
    "\n",
    "\n",
    "'''Correlation lies between -1 (perfect anti-correlation) and 1 (perfect correlation)'''\n",
    "def correlation(x, y):\n",
    "    stdev_x = standard_deviation(x)\n",
    "    stdev_y = standard_deviation(y)\n",
    "    if stdev_x > 0 and stdev_y > 0:\n",
    "        return covariance(x, y) / stdev_x / stdev_y\n",
    "    else:\n",
    "        return  0\n",
    "\n",
    "    \n",
    "\"\"\"Now we'll get into the fitting logic.\"\"\"\n",
    "\n",
    "\n",
    "def predict(alpha, beta, x_i):\n",
    "    return beta * x_i + alpha\n",
    "\n",
    "\n",
    "def error(alpha, beta, x_i, y_i):\n",
    "    return y_i - predict(alpha, beta, x_i)\n",
    "\n",
    "\n",
    "\n",
    "def squared_error(x_i, y_i, beta):\n",
    "    return error(x_i, y_i, beta)**2\n",
    "\n",
    "\n",
    "def squared_error_gradient(x_i, y_i, beta):\n",
    "    \"\"\"the gradient (with respect to beta)\n",
    "    corresponding to the ith squared error term\"\"\"\n",
    "    return [-2 * x_ij * error(x_i, y_i, beta) for xij in x_i]\n"
   ]
  },
  {
   "cell_type": "code",
   "execution_count": 15,
   "metadata": {
    "collapsed": false
   },
   "outputs": [
    {
     "name": "stdout",
     "output_type": "stream",
     "text": [
      "[1, 2, 3, 4, 5, 6]\n",
      "1 2 3 4 5 6\n"
     ]
    }
   ],
   "source": [
    "x = [1,2,3,4,5,6]\n",
    "print(x)\n",
    "print(*x)\n",
    "#for a in zip(*x, *x):\n",
    "#    print(a)"
   ]
  },
  {
   "cell_type": "code",
   "execution_count": null,
   "metadata": {
    "collapsed": true
   },
   "outputs": [],
   "source": []
  }
 ],
 "metadata": {
  "kernelspec": {
   "display_name": "Python 3",
   "language": "python",
   "name": "python3"
  },
  "language_info": {
   "codemirror_mode": {
    "name": "ipython",
    "version": 3
   },
   "file_extension": ".py",
   "mimetype": "text/x-python",
   "name": "python",
   "nbconvert_exporter": "python",
   "pygments_lexer": "ipython3",
   "version": "3.4.3"
  }
 },
 "nbformat": 4,
 "nbformat_minor": 0
}
