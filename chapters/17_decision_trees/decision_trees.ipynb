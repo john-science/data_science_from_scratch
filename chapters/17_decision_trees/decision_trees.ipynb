{
 "cells": [
  {
   "cell_type": "code",
   "execution_count": 1,
   "metadata": {
    "collapsed": false
   },
   "outputs": [],
   "source": [
    "from collections import Counter, defaultdict\n",
    "import math\n",
    "\n",
    "\n",
    "inputs = [\n",
    "    ({'level':'Senior','lang':'Java','tweets':'no','phd':'no'},   False),\n",
    "    ({'level':'Senior','lang':'Java','tweets':'no','phd':'yes'},  False),\n",
    "    ({'level':'Mid','lang':'Python','tweets':'no','phd':'no'},     True),\n",
    "    ({'level':'Senior','lang':'Python','tweets':'no','phd':'no'}, False),\n",
    "    ({'level':'Senior','lang':'R','tweets':'yes','phd':'no'},      True),\n",
    "    ({'level':'Junior','lang':'Python','tweets':'yes','phd':'no'}, True),\n",
    "    ({'level':'Junior','lang':'Python','tweets':'no','phd':'no'},  True),\n",
    "    ({'level':'Junior','lang':'R','tweets':'yes','phd':'no'},      True),\n",
    "    ({'level':'Junior','lang':'R','tweets':'yes','phd':'yes'},    False),\n",
    "    ({'level':'Mid','lang':'R','tweets':'yes','phd':'yes'},        True),\n",
    "    ({'level':'Senior','lang':'Python','tweets':'yes','phd':'yes'},True),\n",
    "    ({'level':'Mid','lang':'Python','tweets':'no','phd':'yes'},    True),\n",
    "    ({'level':'Mid','lang':'Java','tweets':'yes','phd':'no'},      True),\n",
    "    ({'level':'Junior','lang':'Python','tweets':'no','phd':'yes'},False)\n",
    "]\n",
    "\n",
    "\n",
    "def entropy(class_probs):\n",
    "    \"\"\"given a list of class probs, compute the entropy\n",
    "    (a measure of the disorder of the system)\"\"\"\n",
    "    return sum(-p * math.log(p, 2) for p in class_probs if p)\n",
    "\n",
    "\n",
    "def class_probs(labels):\n",
    "    total_count = len(labels)\n",
    "    return [count / total_count for count in Counter(labels).values()]\n",
    "\n",
    "\n",
    "def data_entropy(labeled_data):\n",
    "    \"\"\"entropy of data in pairs (input, label)\"\"\"\n",
    "    labels = [label for _, label in labeled_data]\n",
    "    probs = class_probs(labels)\n",
    "    return entropy(probs)\n",
    "\n",
    "\n",
    "def partition_entropy(subsets):\n",
    "    \"\"\"find the entropy from this partition of data into subsets.\n",
    "    subsets is a list of lists of labeled data\"\"\"\n",
    "    total_count = sum(len(subset) for subset in subsets)\n",
    "    return sum(data_entropy(subset) * len(subset) / total_count for subset in subsets)\n",
    "\n",
    "\n",
    "def partition_by(inputs, attr):\n",
    "    \"\"\"each input is a pair (attr dict, label).\n",
    "    return a dict: attr value -> inputs\"\"\"\n",
    "    groups = defaultdict(list)\n",
    "    for inp in inputs:\n",
    "        key = inp[0][attr]\n",
    "        groups[key].append(inp)\n",
    "    \n",
    "    return groups\n",
    "\n",
    "\n",
    "def partition_entropy_by(inputs, attr):\n",
    "    \"\"\"computes the entropy corresponding to the given partition\"\"\"\n",
    "    partitions = partition_by(inputs, attr)\n",
    "    return partition_entropy(partitions.values())\n"
   ]
  },
  {
   "cell_type": "code",
   "execution_count": 2,
   "metadata": {
    "collapsed": false
   },
   "outputs": [
    {
     "name": "stdout",
     "output_type": "stream",
     "text": [
      "level \t 0.69\n",
      "lang \t 0.86\n",
      "tweets \t 0.79\n",
      "phd \t 0.89\n"
     ]
    }
   ],
   "source": [
    "for key in ['level', 'lang', 'tweets', 'phd']:\n",
    "    print(key, '\\t', round(partition_entropy_by(inputs, key), 2))"
   ]
  },
  {
   "cell_type": "code",
   "execution_count": 3,
   "metadata": {
    "collapsed": false
   },
   "outputs": [
    {
     "name": "stdout",
     "output_type": "stream",
     "text": [
      "lang \t 0.4\n",
      "tweets \t 0.0\n",
      "phd \t 0.95\n"
     ]
    }
   ],
   "source": [
    "\"\"\" Notice above 'level' has the lowest entropy. This means it has the highest certainty.\n",
    "    So we would split our tree on that attribute first.\n",
    "\"\"\"\n",
    "\n",
    "senior_inputs = [(inp, label) for inp, label in inputs if inp['level'] == 'Senior']\n",
    "\n",
    "for key in ['lang', 'tweets', 'phd']:\n",
    "    print(key, '\\t', round(partition_entropy_by(senior_inputs, key), 2))"
   ]
  },
  {
   "cell_type": "code",
   "execution_count": 12,
   "metadata": {
    "collapsed": true
   },
   "outputs": [],
   "source": [
    "from functools import partial\n",
    "\n",
    "\n",
    "def classify(tree, inp):\n",
    "    \"\"\"classify the input using the given decision tree\"\"\"\n",
    "    # if this is a leaf node, return its value\n",
    "    if tree in [True, False]:\n",
    "        return tree\n",
    "    \n",
    "    \"\"\"otherwise, this tree consists of an attribute to split on\n",
    "    & a dict whose keys are values of that attribute & whose values\n",
    "    are subtrees to consider next\"\"\"\n",
    "    attr, subtree_dict = tree\n",
    "    subtree_key = inp.get(attr)\n",
    "    # if no subtree for key, use None\n",
    "    if subtree_key not in subtree_dict:\n",
    "        subtree_key = None\n",
    "    \n",
    "    # choose the appropriate subtree & use it to classify the next input\n",
    "    subtree = subtree_dict[subtree_key]\n",
    "    return classify(subtree, inp)\n",
    "\n",
    "\n",
    "def build_tree_id3(inputs, split_candidates=None):\n",
    "    if split_candidates is None:\n",
    "        split_candidates = inputs[0][0].keys()\n",
    "    \n",
    "    num_inputs = len(inputs)\n",
    "    num_trues = len([label for item, label in inputs if label])\n",
    "    num_falses = num_inputs - num_trues\n",
    "    \n",
    "    if num_trues == 0:\n",
    "        return False\n",
    "    if num_falses == 0:\n",
    "        return True\n",
    "    \n",
    "    best_attr = min(split_candidates, key=partial(partition_entropy_by, inputs))\n",
    "    \n",
    "    partitions = partition_by(inputs, best_attr)\n",
    "    new_candidates = [a for a in split_candidates if a != best_attr]\n",
    "    \n",
    "    subtrees = {attr_value : build_tree_id3(subset, new_candidates)\n",
    "                for attr_value, subset in partitions.items()}\n",
    "    \n",
    "    subtrees[None] = num_trues > num_falses\n",
    "    \n",
    "    return (best_attr, subtrees)"
   ]
  },
  {
   "cell_type": "code",
   "execution_count": 20,
   "metadata": {
    "collapsed": false
   },
   "outputs": [
    {
     "name": "stdout",
     "output_type": "stream",
     "text": [
      "('level',\n",
      " {None: True,\n",
      "  'Junior': ('phd', {None: True, 'no': True, 'yes': False}),\n",
      "  'Mid': True,\n",
      "  'Senior': ('tweets', {None: False, 'no': False, 'yes': True})})\n"
     ]
    }
   ],
   "source": [
    "tree = build_tree_id3(inputs)\n",
    "\n",
    "from pprint import pprint\n",
    "pprint(tree)"
   ]
  },
  {
   "cell_type": "code",
   "execution_count": 14,
   "metadata": {
    "collapsed": false
   },
   "outputs": [
    {
     "data": {
      "text/plain": [
       "True"
      ]
     },
     "execution_count": 14,
     "metadata": {},
     "output_type": "execute_result"
    }
   ],
   "source": [
    "classify(tree, {\"level\"  : \"Junior\",\n",
    "                \"lang\"   : \"Java\",\n",
    "                \"tweets\" : \"yes\",\n",
    "                \"phd\"    : \"no\"})"
   ]
  },
  {
   "cell_type": "code",
   "execution_count": 15,
   "metadata": {
    "collapsed": false
   },
   "outputs": [
    {
     "data": {
      "text/plain": [
       "False"
      ]
     },
     "execution_count": 15,
     "metadata": {},
     "output_type": "execute_result"
    }
   ],
   "source": [
    "classify(tree, {\"level\"  : \"Junior\",\n",
    "                \"lang\"   : \"Java\",\n",
    "                \"tweets\" : \"yes\",\n",
    "                \"phd\"    : \"yes\"})"
   ]
  },
  {
   "cell_type": "code",
   "execution_count": 16,
   "metadata": {
    "collapsed": false
   },
   "outputs": [
    {
     "name": "stdout",
     "output_type": "stream",
     "text": [
      "True\n",
      "False\n"
     ]
    }
   ],
   "source": [
    "print(classify(tree, {\"level\" : \"Intern\"}))\n",
    "print(classify(tree, {\"level\" : \"Senior\"}))"
   ]
  },
  {
   "cell_type": "code",
   "execution_count": 18,
   "metadata": {
    "collapsed": false
   },
   "outputs": [
    {
     "data": {
      "text/plain": [
       "True"
      ]
     },
     "execution_count": 18,
     "metadata": {},
     "output_type": "execute_result"
    }
   ],
   "source": [
    "# Where would I fit in here?\n",
    "classify(tree, {\"level\"  : \"Junior\",\n",
    "                \"lang\"   : \"Python\",\n",
    "                \"tweets\" : \"no\",\n",
    "                \"phd\"    : \"no\"})"
   ]
  },
  {
   "cell_type": "code",
   "execution_count": null,
   "metadata": {
    "collapsed": true
   },
   "outputs": [],
   "source": []
  }
 ],
 "metadata": {
  "kernelspec": {
   "display_name": "Python 3",
   "language": "python",
   "name": "python3"
  },
  "language_info": {
   "codemirror_mode": {
    "name": "ipython",
    "version": 3
   },
   "file_extension": ".py",
   "mimetype": "text/x-python",
   "name": "python",
   "nbconvert_exporter": "python",
   "pygments_lexer": "ipython3",
   "version": "3.4.3"
  }
 },
 "nbformat": 4,
 "nbformat_minor": 0
}
