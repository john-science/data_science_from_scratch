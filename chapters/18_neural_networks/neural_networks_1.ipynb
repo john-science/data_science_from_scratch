{
 "cells": [
  {
   "cell_type": "code",
   "execution_count": 32,
   "metadata": {
    "collapsed": false
   },
   "outputs": [],
   "source": [
    "\"\"\" This is a brief introductory chapter on Neural Networks.\n",
    "    This is a big topic, and growing every day, so this will\n",
    "    just be the briefest of introductions.\n",
    "    Exciting though.\n",
    "\"\"\"\n",
    "\n",
    "\"\"\" The simplest neural network example is a single perceptron.\n",
    "    The idea is that the weighted sum of the inputs has to be\n",
    "    above some threshhold for a neuron to fire.\n",
    "\"\"\"\n",
    "\n",
    "def dot(a, b):\n",
    "    \"\"\" calculate the vector dot product\"\"\"\n",
    "    return sum([a[i] * b[i] for i in range(len(a))])\n",
    "\n",
    "\n",
    "def step_function(x):\n",
    "    return 1 if x >=0 else 0\n",
    "\n",
    "\n",
    "def perceptron_output(weights, bias, x):\n",
    "    \"\"\" Returns 1 if the the weighted sum of it's inputs is above some threshold,\n",
    "        but returns 0 otherwise.\n",
    "    \"\"\"\n",
    "    calculation = dot(weights, x) + bias\n",
    "    return step_function(calculation)"
   ]
  },
  {
   "cell_type": "code",
   "execution_count": 33,
   "metadata": {
    "collapsed": false
   },
   "outputs": [],
   "source": [
    "\"\"\" Now lets's use a perceptron to simulate the fundamentals of computer hardware.\n",
    "    These examples are dead simple, but hilariously recursive, if you think about\n",
    "    the goal.\n",
    "\"\"\"\n",
    "\n",
    "from functools import partial\n",
    "\n",
    "\n",
    "and_gate = partial(perceptron_output, [2, 2], -3)\n",
    "or_gate = partial(perceptron_output, [2, 2], -1)\n",
    "not_gate = partial(perceptron_output, [-2], 1)"
   ]
  },
  {
   "cell_type": "code",
   "execution_count": 38,
   "metadata": {
    "collapsed": false
   },
   "outputs": [
    {
     "name": "stdout",
     "output_type": "stream",
     "text": [
      "and gate\n",
      "1\n",
      "1\n",
      "0\n",
      "0\n",
      "0\n",
      "\n",
      "or gate\n",
      "1\n",
      "1\n",
      "1\n",
      "1\n",
      "0\n",
      "\n",
      "not gate\n",
      "0\n",
      "0\n",
      "1\n"
     ]
    }
   ],
   "source": [
    "print('and gate')\n",
    "print(and_gate([7, 2]))\n",
    "print(and_gate([1, 1]))\n",
    "print(and_gate([0, 1]))\n",
    "print(and_gate([1, 0]))\n",
    "print(and_gate([0, 0]))\n",
    "\n",
    "print('\\nor gate')\n",
    "print(or_gate([7, 2]))\n",
    "print(or_gate([1, 1]))\n",
    "print(or_gate([0, 1]))\n",
    "print(or_gate([1, 0]))\n",
    "print(or_gate([0, 0]))\n",
    "\n",
    "print('\\nnot gate')\n",
    "print(not_gate([7]))\n",
    "print(not_gate([1]))\n",
    "print(not_gate([0]))"
   ]
  },
  {
   "cell_type": "code",
   "execution_count": 39,
   "metadata": {
    "collapsed": true
   },
   "outputs": [],
   "source": [
    "\"\"\" Okay, enough with the single perceptron.\n",
    "    Let's build a simple feed-forward network.\n",
    "\"\"\"\n",
    "\n",
    "import math\n",
    "\n",
    "\n",
    "def sigmoid(t):\n",
    "    return 1 / (1 + math.exp(-t))\n",
    "\n",
    "\n",
    "def neuron_output(weights, inputs):\n",
    "    return sigmoid(dot(weights, inputs))\n",
    "\n",
    "\n",
    "def feed_forward(neural_network, input_vector):\n",
    "    \"\"\" takes in a neural network (list of lists of lists of weights)\n",
    "        and returns the output from forward-propogating the input.\n",
    "    \"\"\"\n",
    "    outputs = []\n",
    "    \n",
    "    # process one layer at a time\n",
    "    for layer in neural_network:\n",
    "        input_with_bias = input_vector + [1]\n",
    "        output = [neuron_output(neuron, input_with_bias) for neuron in layer]\n",
    "        outputs.append(output)\n",
    "        \n",
    "        # then the input to the next layer is the output of this one\n",
    "        input_vector = output\n",
    "    \n",
    "    return outputs"
   ]
  },
  {
   "cell_type": "code",
   "execution_count": 40,
   "metadata": {
    "collapsed": false
   },
   "outputs": [
    {
     "name": "stdout",
     "output_type": "stream",
     "text": [
      "0 0 [9.38314668300676e-14]\n",
      "0 1 [0.9999999999999059]\n",
      "1 0 [0.9999999999999059]\n",
      "1 1 [9.383146683006828e-14]\n"
     ]
    }
   ],
   "source": [
    "\"\"\" Feed-Forward Example\"\"\"\n",
    "xor_network = [[[20, 20, -30], [20, 20, -10]], [[-60, 60, -30]]]\n",
    "\n",
    "for x in [0, 1]:\n",
    "    for y in [0, 1]:\n",
    "        print(x, y, feed_forward(xor_network, [x, y])[-1])"
   ]
  },
  {
   "cell_type": "code",
   "execution_count": 42,
   "metadata": {
    "collapsed": false
   },
   "outputs": [],
   "source": [
    "\"\"\" All right, now let's build a simple backpropogation algorithm.\n",
    "    We will use it to defeat... the world's simplest captcha.\n",
    "\"\"\"\n",
    "\n",
    "def backpropogate(network, input_vector, targets):\n",
    "    hidden_outputs, outputs = feed_forward(network, input_vector)\n",
    "    \n",
    "    # the output * (1 - output) is from the derivative of the sigmoid\n",
    "    output_deltas = [output * (1 - output) * (output - target)\n",
    "                     for output, target in zip(outputs, targets)]\n",
    "    \n",
    "    # adjust weights for the output layer, one neuron at a time\n",
    "    for i, output_neuron in enumerate(network[-1]):\n",
    "        # focus on the ith output layer neuron\n",
    "        for j, hidden_output in enumerate(hidden_outputs + [1]):\n",
    "            # adjust the jth weight based on both\n",
    "            # this neuron's delta & its jth input\n",
    "            output_neuron[j] -= output_deltas[i] * hidden_output\n",
    "            \n",
    "    # back-propogate errors in hidden layer\n",
    "    hidden_deltas = [hidden_output * (1 - hidden_output) *\n",
    "                     dot(output_deltas, [n[i] for n in output_layer])\n",
    "                     for i, hidden_output in enumerate(hidden_outputs)]\n",
    "    \n",
    "    # adjust weights for hidden layer, one neuron at a time\n",
    "    for i, hidden_neuron in enumerate(network[0]):\n",
    "        for j, input in enumerate(input_vector + [1]):\n",
    "            hidden_neuron[j] -= hidden_deltas[i] * input"
   ]
  },
  {
   "cell_type": "code",
   "execution_count": 44,
   "metadata": {
    "collapsed": true
   },
   "outputs": [],
   "source": [
    "raw_digits = [\n",
    "          \"\"\"11111\n",
    "             1...1\n",
    "             1...1\n",
    "             1...1\n",
    "             11111\"\"\",\n",
    "\n",
    "          \"\"\"..1..\n",
    "             ..1..\n",
    "             ..1..\n",
    "             ..1..\n",
    "             ..1..\"\"\",\n",
    "\n",
    "          \"\"\"11111\n",
    "             ....1\n",
    "             11111\n",
    "             1....\n",
    "             11111\"\"\",\n",
    "\n",
    "          \"\"\"11111\n",
    "             ....1\n",
    "             11111\n",
    "             ....1\n",
    "             11111\"\"\",\n",
    "\n",
    "          \"\"\"1...1\n",
    "             1...1\n",
    "             11111\n",
    "             ....1\n",
    "             ....1\"\"\",\n",
    "\n",
    "          \"\"\"11111\n",
    "             1....\n",
    "             11111\n",
    "             ....1\n",
    "             11111\"\"\",\n",
    "\n",
    "          \"\"\"11111\n",
    "             1....\n",
    "             11111\n",
    "             1...1\n",
    "             11111\"\"\",\n",
    "\n",
    "          \"\"\"11111\n",
    "             ....1\n",
    "             ....1\n",
    "             ....1\n",
    "             ....1\"\"\",\n",
    "\n",
    "          \"\"\"11111\n",
    "             1...1\n",
    "             11111\n",
    "             1...1\n",
    "             11111\"\"\",\n",
    "\n",
    "          \"\"\"11111\n",
    "             1...1\n",
    "             11111\n",
    "             ....1\n",
    "             11111\"\"\"]\n",
    "    \n",
    "    \n",
    "def make_digit(raw_digit):\n",
    "    \"\"\"parse the raw text above into our digit images\"\"\"\n",
    "    return [1 if c == '1' else 0\n",
    "            for row in raw_digit.split(\"\\n\")\n",
    "            for c in row.strip()]\n",
    "    \n",
    "inputs = list(map(make_digit, raw_digits))\n",
    "\n",
    "targets = [[1 if i == j else 0 for i in range(10)]\n",
    "           for j in range(10)]"
   ]
  },
  {
   "cell_type": "code",
   "execution_count": 45,
   "metadata": {
    "collapsed": true
   },
   "outputs": [],
   "source": [
    "\"\"\"Okay, it's time to train the neural network.\"\"\"\n",
    "\n",
    "import random\n",
    "\n",
    "input_size = 25\n",
    "num_hidden = 5\n",
    "output_size = 10\n",
    "\n",
    "hidden_layer = [[random.random() for _ in range(input_size + 1)]\n",
    "                for _ in range(num_hidden)]\n",
    "\n",
    "output_layer= [[random.random() for _ in range(num_hidden + 1)]\n",
    "               for _ in range(output_size)]\n",
    "\n",
    "network = [hidden_layer, output_layer]\n",
    "\n",
    "for _ in range(10000):\n",
    "    for input_vector, target_vector in zip(inputs, targets):\n",
    "        backpropogate(network, input_vector, target_vector)"
   ]
  },
  {
   "cell_type": "code",
   "execution_count": 58,
   "metadata": {
    "collapsed": false
   },
   "outputs": [
    {
     "name": "stdout",
     "output_type": "stream",
     "text": [
      "['0.95', '0.00', '0.00', '0.02', '0.00', '0.00', '0.00', '0.00', '0.03', '0.02']\n",
      "['0.00', '0.96', '0.01', '0.01', '0.02', '0.00', '0.00', '0.02', '0.00', '0.00']\n",
      "['0.00', '0.02', '0.99', '0.01', '0.00', '0.00', '0.02', '0.00', '0.02', '0.00']\n",
      "['0.02', '0.02', '0.01', '0.98', '0.00', '0.00', '0.00', '0.00', '0.01', '0.00']\n",
      "['0.00', '0.02', '0.00', '0.00', '0.98', '0.02', '0.00', '0.00', '0.00', '0.00']\n",
      "['0.00', '0.00', '0.00', '0.00', '0.02', '0.96', '0.03', '0.00', '0.00', '0.02']\n",
      "['0.00', '0.00', '0.00', '0.00', '0.00', '0.02', '0.96', '0.00', '0.03', '0.00']\n",
      "['0.00', '0.02', '0.00', '0.00', '0.00', '0.00', '0.00', '0.97', '0.00', '0.02']\n",
      "['0.03', '0.00', '0.00', '0.00', '0.00', '0.00', '0.03', '0.00', '0.95', '0.00']\n",
      "['0.03', '0.00', '0.00', '0.00', '0.00', '0.02', '0.00', '0.02', '0.00', '0.97']\n"
     ]
    }
   ],
   "source": [
    "\"\"\" Let's test the network we trained. \"\"\"\n",
    "\n",
    "def predict(input):\n",
    "    return feed_forward(network, input)[-1]\n",
    "\n",
    "for n in range(10):\n",
    "    print(['%.2f' % p for p in predict(inputs[n])])\n",
    "    "
   ]
  },
  {
   "cell_type": "code",
   "execution_count": 61,
   "metadata": {
    "collapsed": false
   },
   "outputs": [
    {
     "name": "stdout",
     "output_type": "stream",
     "text": [
      "['0.996', '0.000', '0.000', '0.497', '0.000', '0.000', '0.000', '0.000', '0.963', '0.000']\n"
     ]
    }
   ],
   "source": [
    "\"\"\" What if we try testing a new input? \"\"\"\n",
    "\n",
    "new_three = [0,1,1,1,0,\n",
    "             0,0,0,1,1,\n",
    "             0,0,1,1,0,\n",
    "             0,0,0,1,1,\n",
    "             0,1,1,1,0]\n",
    "\n",
    "print(['%.3f' % p for p in predict(new_three)])"
   ]
  },
  {
   "cell_type": "code",
   "execution_count": 62,
   "metadata": {
    "collapsed": false
   },
   "outputs": [
    {
     "name": "stdout",
     "output_type": "stream",
     "text": [
      "['0.002', '0.000', '0.000', '0.000', '0.000', '0.019', '0.000', '0.018', '0.000', '0.851']\n"
     ]
    }
   ],
   "source": [
    "\n",
    "new_nine = [1,1,1,1,1,\n",
    "            1,0,0,0,1,\n",
    "            1,1,1,1,1,\n",
    "            0,0,0,0,1,\n",
    "            0,0,0,0,1]\n",
    "\n",
    "print(['%.3f' % p for p in predict(new_nine)])"
   ]
  },
  {
   "cell_type": "code",
   "execution_count": 78,
   "metadata": {
    "collapsed": false
   },
   "outputs": [
    {
     "data": {
      "image/png": "[encoded data removed]",
      "text/plain": [
       "<matplotlib.figure.Figure at 0x7fd207d520f0>"
      ]
     },
     "metadata": {},
     "output_type": "display_data"
    }
   ],
   "source": [
    "%matplotlib inline\n",
    "import matplotlib\n",
    "from matplotlib import pyplot as plt\n",
    "\n",
    "weights = network[0][4]\n",
    "abs_weights = list(map(abs, weights))\n",
    "\n",
    "grid = [abs_weights[row:(row + 5)] for row in range(0, 25, 5)]\n",
    "ax = plt.gca()\n",
    "ax.imshow(grid, cmap=matplotlib.cm.binary, interpolation='none')\n",
    "\n",
    "def patch(x, y, color):\n",
    "    return matplotlib.patches.Rectangle((x - 0.5, y - 0.5), 1, 1, color=color)\n",
    "\n",
    "\n",
    "for i in range(5):\n",
    "    for j in range(5):\n",
    "        if weights[5 * i + j] < 0:\n",
    "            ax.add_patch(patch(j, i, \"white\"))\n",
    "            ax.add_patch(patch(j, i, \"black\"))\n",
    "\n",
    "plt.show()"
   ]
  },
  {
   "cell_type": "code",
   "execution_count": null,
   "metadata": {
    "collapsed": true
   },
   "outputs": [],
   "source": []
  }
 ],
 "metadata": {
  "kernelspec": {
   "display_name": "Python 3",
   "language": "python",
   "name": "python3"
  },
  "language_info": {
   "codemirror_mode": {
    "name": "ipython",
    "version": 3
   },
   "file_extension": ".py",
   "mimetype": "text/x-python",
   "name": "python",
   "nbconvert_exporter": "python",
   "pygments_lexer": "ipython3",
   "version": "3.4.3"
  }
 },
 "nbformat": 4,
 "nbformat_minor": 0
}
