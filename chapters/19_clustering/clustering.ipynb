{
 "cells": [
  {
   "cell_type": "code",
   "execution_count": 2,
   "metadata": {
    "collapsed": false
   },
   "outputs": [],
   "source": [
    "\"\"\" This chapter is on clustering algorithms.\n",
    "\"\"\"\n",
    "\n",
    "from math import sqrt\n",
    "\n",
    "\n",
    "def dot(v, w):\n",
    "    '''the sum of the product of the matching elements\n",
    "    of the input vectors'''\n",
    "    return sum(v_i * w_i for v_i,w_i in zip(v, w))\n",
    "\n",
    "\n",
    "def sum_of_squares(v):\n",
    "    '''add the square of each element'''\n",
    "    return dot(v, v)\n",
    "\n",
    "\n",
    "def vector_add(v, w):\n",
    "    '''adds corresponding elements of vectors'''\n",
    "    return [v_i + w_i for v_i,w_i in zip(v, w)]\n",
    "\n",
    "\n",
    "def vector_subtract(v, w):\n",
    "    '''subtract corresponding elements of vectors'''\n",
    "    return [v_i - w_i for v_i,w_i in zip(v, w)]\n",
    "\n",
    "\n",
    "def vector_sum(vectors):\n",
    "    '''sum all corresponding elements'''\n",
    "    result = vectors[0]\n",
    "    for vector in vectors[1:]:\n",
    "        result = vector_add(result, vector)\n",
    "\n",
    "    return result\n",
    "\n",
    "\n",
    "def vector_sum_fast(vectors):\n",
    "    '''sum all corresponding elements'''\n",
    "    return reduce(vector_add, vectors)\n",
    "\n",
    "\n",
    "def scalar_multiply(c, vector):\n",
    "    '''c is the scalar'''\n",
    "    return [c * v_i for v_i in vector]\n",
    "\n",
    "\n",
    "def vector_mean(vectors):\n",
    "    '''The ith element of the result is the mean of the ith element\n",
    "    of all the input vectors.'''\n",
    "    n = len(vectors)\n",
    "    return scalar_multiply(1/n, vector_sum(vectors))\n",
    "\n",
    "\n",
    "def magnitude(v):\n",
    "    '''Find the length of a vector in cartesian space'''\n",
    "    return sqrt(sum_of_squares(v))\n",
    "\n",
    "\n",
    "def distance(v, w):\n",
    "    '''Find the distance between two vectors'''\n",
    "    return magnitude(vector_subtract(v, w))\n",
    "\n",
    "\n",
    "class KMeans:\n",
    "    \"\"\" performs k-means clustering \"\"\"\n",
    "    \n",
    "    def __init__(self, k):\n",
    "        self.k = k\n",
    "        self.means = None\n",
    "    \n",
    "    def classify(self, input):\n",
    "        \"\"\" return the index of the cluster closest in the input \"\"\"\n",
    "        return min(range(self.k), key=lambda i: distance(input, self.means[i])**2)\n",
    "    \n",
    "    def train(self, inputs):\n",
    "        \"\"\" train your means \"\"\"\n",
    "        # choose k random points as the initial means\n",
    "        self.means = random.sample(inputs, self.k)\n",
    "        assignments = None\n",
    "\n",
    "        while True:\n",
    "            # find new assignments\n",
    "            new_assignments = list(map(self.classify, inputs))\n",
    "            \n",
    "            # if no assignments have changed, we're done\n",
    "            if assignments == new_assignments:\n",
    "                return\n",
    "            \n",
    "            # otherwise, keep the new assignments\n",
    "            assignments = new_assignments\n",
    "            \n",
    "            # and compute the new means based on the new assignments\n",
    "            for i in range(self.k):\n",
    "                # find all the points assigned to center i\n",
    "                i_points = [p for p, a in zip(inputs, assignments) if a == i]\n",
    "                \n",
    "                # divide by zero protection\n",
    "                if i_points:\n",
    "                    self.means[i] = vector_mean(i_points)"
   ]
  },
  {
   "cell_type": "code",
   "execution_count": 3,
   "metadata": {
    "collapsed": false
   },
   "outputs": [
    {
     "name": "stdout",
     "output_type": "stream",
     "text": [
      "[[14.82, 16.280000000000001], [-15.34, -17.740000000000002], [3.0300000000000002, -40.82]]\n"
     ]
    }
   ],
   "source": [
    "\"\"\" The meetups example \"\"\"\n",
    "import random\n",
    "from numpy.random import randint\n",
    "\n",
    "inputs = list(zip(randint(-25, -5, 100), randint(-25, -10, 100))) + \\\n",
    "         list(zip(randint(-5, 15, 100), randint(-50, -30, 100))) + \\\n",
    "         list(zip(randint(5, 25, 100), randint(10, 25, 100)))\n",
    "\n",
    "clusterer = KMeans(3)\n",
    "clusterer.train(inputs)\n",
    "print(clusterer.means)"
   ]
  },
  {
   "cell_type": "code",
   "execution_count": 4,
   "metadata": {
    "collapsed": false
   },
   "outputs": [
    {
     "name": "stdout",
     "output_type": "stream",
     "text": [
      "[[14.82, 16.280000000000001], [-6.1550000000000002, -29.280000000000001]]\n"
     ]
    }
   ],
   "source": [
    "clusterer2 = KMeans(2)\n",
    "clusterer2.train(inputs)\n",
    "print(clusterer2.means)"
   ]
  },
  {
   "cell_type": "code",
   "execution_count": 8,
   "metadata": {
    "collapsed": false
   },
   "outputs": [
    {
     "data": {
      "image/png": "[encoded data removed]",
      "text/plain": [
       "<matplotlib.figure.Figure at 0x7f6ce7b4edd8>"
      ]
     },
     "metadata": {},
     "output_type": "display_data"
    }
   ],
   "source": [
    "\"\"\" How to choose the right k for your clustering... \"\"\"\n",
    "%matplotlib inline\n",
    "from matplotlib import pyplot as plt\n",
    "\n",
    "def squared_clustering_errors(inputs, k):\n",
    "    \"\"\" finds total squared error from k-means clustering the inputs \"\"\"\n",
    "    clusterer = KMeans(k)\n",
    "    clusterer.train(inputs)\n",
    "    means = clusterer.means\n",
    "    assignments = map(clusterer.classify, inputs)\n",
    "    \n",
    "    return sum(distance(input, means[cluster])**2\n",
    "               for input, cluster in zip(inputs, assignments))\n",
    "\n",
    "# now plot the results of the above \"error\" for k = 1 to len(inputs)\n",
    "#ks = range(1, len(inputs) + 1)\n",
    "ks = range(1, 25)  # nevermind, I don't need that many to see the trend\n",
    "\n",
    "errors = [squared_clustering_errors(inputs, k) for k in ks]\n",
    "\n",
    "# make the plot\n",
    "plt.plot(ks, errors)\n",
    "plt.xticks(ks)\n",
    "plt.xlabel(\"k\")\n",
    "plt.ylabel(\"sum of all error distance\")\n",
    "plt.title(\"Total Error vs # of Clusters\")\n",
    "plt.show()"
   ]
  },
  {
   "cell_type": "code",
   "execution_count": 17,
   "metadata": {
    "collapsed": false
   },
   "outputs": [
    {
     "name": "stdout",
     "output_type": "stream",
     "text": [
      "[ 1.  1.  1.  0.]\n",
      "1.0 1.0 1.0 0.0\n"
     ]
    }
   ],
   "source": [
    "image_path = r\"tardis_css.png\"\n",
    "from matplotlib import image\n",
    "img = image.imread(image_path)\n",
    "\n",
    "red, green, blue, alpha = img[0][0]  # top-left pixel\n",
    "print(red, green, blue, alpha)"
   ]
  },
  {
   "cell_type": "code",
   "execution_count": 19,
   "metadata": {
    "collapsed": false
   },
   "outputs": [],
   "source": [
    "\"\"\" This is the infamous double-for list comprehension.\n",
    "    Note the order the two fors have to be in:\n",
    "    They read right-to-left.\n",
    "\"\"\"\n",
    "pixels = [pixel for row in img for pixel in row]\n",
    "\n",
    "clusterer = KMeans(5)\n",
    "clusterer.train(pixels)  # this takes a while"
   ]
  },
  {
   "cell_type": "code",
   "execution_count": 20,
   "metadata": {
    "collapsed": false
   },
   "outputs": [
    {
     "data": {
      "image/png": "[encoded data removed]",
      "text/plain": [
       "<matplotlib.figure.Figure at 0x7f6cc81bbf98>"
      ]
     },
     "metadata": {},
     "output_type": "display_data"
    }
   ],
   "source": [
    "def recolor(pixel):\n",
    "    cluster = clusterer.classify(pixel)\n",
    "    return clusterer.means[cluster]\n",
    "\n",
    "new_img = [[recolor(pixel) for pixel in row] for row in img]\n",
    "\n",
    "plt.imshow(new_img)\n",
    "plt.axis('off')\n",
    "plt.show()"
   ]
  },
  {
   "cell_type": "code",
   "execution_count": 32,
   "metadata": {
    "collapsed": false
   },
   "outputs": [],
   "source": [
    "\"\"\" Bottom-Up Hierarchical Clustering\n",
    "    We start with each point being in its own cluster and combine the two clusters\n",
    "    that are closest together until we have just one cluster.\n",
    "    As long as we save the merge order, we can back out and get any number of\n",
    "    clusters we want.\n",
    "\"\"\"\n",
    "\n",
    "def is_leaf(cluster):\n",
    "    \"\"\" a cluster is a leaf if it has length 1 \"\"\"\n",
    "    return len(cluster) == 1\n",
    "\n",
    "\n",
    "def get_children(cluster):\n",
    "    \"\"\" returns the two children of this cluster if it's a merged cluster;\n",
    "        raises an exceptoin if it is a leaf cluster\n",
    "    \"\"\"\n",
    "    if is_leaf(cluster):\n",
    "        raise TypeError('A leaf cluster has no children.')\n",
    "    else:\n",
    "        return cluster[1]\n",
    "\n",
    "\n",
    "def get_values(cluster):\n",
    "    \"\"\" returns the value in this cluster (if it's a leaf)\n",
    "        or all the values in the leaf's below (if it's not)\n",
    "    \"\"\"\n",
    "    if is_leaf(cluster):\n",
    "        return cluster\n",
    "    else:\n",
    "        return [value for child in get_children(cluster) for value in get_values(child)]\n",
    "\n",
    "\n",
    "def cluster_distance(cluster1, cluster2, distance_agg=min):\n",
    "    \"\"\" Compute all the pairwise distance between cluster1 and cluster2\n",
    "        and apply _distance_agg to the resulting list.\n",
    "    \"\"\"\n",
    "    return distance_agg([distance(input1, input2)\n",
    "                         for input1 in get_values(cluster1)\n",
    "                         for input2 in get_values(cluster2)])\n",
    "\n",
    "\n",
    "def get_merge_order(cluster):\n",
    "    \"\"\" the merge order is the 1st element of the 2-tuple \"\"\"\n",
    "    if is_leaf(cluster):\n",
    "        return float('inf')\n",
    "    else:\n",
    "        return cluster[0]\n",
    "\n",
    "\n",
    "def bottom_up_cluster(inputs, distance_agg=min):\n",
    "    \"\"\" This is implements the logic for the bottom-up clustering\"\"\"\n",
    "    # start with every input as a leaf cluster / 1-tuple\n",
    "    clusters = [(input,) for input in inputs]\n",
    "    \n",
    "    # as long as we have more than one cluster left...\n",
    "    while len(clusters) > 1:\n",
    "        # find the two closest clusters\n",
    "        c1, c2 = min([(cluster1, cluster2)\n",
    "                      for i, cluster1 in enumerate(clusters)\n",
    "                      for cluster2 in clusters[:i]],\n",
    "                      key=lambda tup: cluster_distance(tup[0], tup[1], distance_agg))\n",
    "\n",
    "        # remove them from the list of clusters\n",
    "        clusters = [c for c in clusters if c != c1 and c != c2]\n",
    "        \n",
    "        # merge them, using merge_order = # of clusters left\n",
    "        merged_cluster = (len(clusters), [c1, c2])\n",
    "        \n",
    "        # and add their merge\n",
    "        clusters.append(merged_cluster)\n",
    "    \n",
    "    # when there's only one cluster left, return it\n",
    "    return clusters[0]"
   ]
  },
  {
   "cell_type": "code",
   "execution_count": 34,
   "metadata": {
    "collapsed": false
   },
   "outputs": [],
   "source": [
    "\"\"\" Now let's use the bottom-up clustering logic we've just built. \"\"\"\n",
    "\n",
    "base_cluster = bottom_up_cluster(inputs)"
   ]
  },
  {
   "cell_type": "code",
   "execution_count": 39,
   "metadata": {
    "collapsed": false
   },
   "outputs": [],
   "source": [
    "def generate_clusters(base_cluster, num_clusters):\n",
    "    \"\"\" generate the clusters N steps back from the final combined super cluster \"\"\"\n",
    "    clusters = [base_cluster]\n",
    "    \n",
    "    # as long as we don't have enough clusters\n",
    "    while len(clusters) < num_clusters:\n",
    "        next_cluster = min(clusters, key=get_merge_order)\n",
    "        \n",
    "        clusters = [c for c in clusters if c != next_cluster]\n",
    "        \n",
    "        clusters.extend(get_children(next_cluster))\n",
    "    \n",
    "    return clusters\n",
    "\n",
    "\n",
    "three_cluster = [get_values(cluster) for cluster in generate_clusters(base_cluster, 3)]"
   ]
  },
  {
   "cell_type": "code",
   "execution_count": 44,
   "metadata": {
    "collapsed": false
   },
   "outputs": [
    {
     "data": {
      "image/png": "[encoded data removed]",
      "text/plain": [
       "<matplotlib.figure.Figure at 0x7f6cc982b400>"
      ]
     },
     "metadata": {},
     "output_type": "display_data"
    }
   ],
   "source": [
    "\"\"\" Now let's plot our new bottom-up clusters,\n",
    "    and see how they compare with our K-Means cluster.\n",
    "\"\"\"\n",
    "\n",
    "for i, cluster, marker, color in zip([1,2,3], three_cluster, ['D', 'o', '*'], ['r', 'g', 'b']):\n",
    "    xs, ys = zip(*cluster)\n",
    "    plt.scatter(xs, ys, color=color, marker=marker)\n",
    "    \n",
    "    # put a number at the mean of the cluster\n",
    "    x, y = vector_mean(cluster)\n",
    "    plt.plot(x, y, marker='$' + str(i) + '$', color='black')\n",
    "    \n",
    "plt.title('User Locations -- 3 Bottom-Up Clusters, Min')\n",
    "plt.xlabel('blocks east of city center')\n",
    "plt.ylabel('blocks north of city center')\n",
    "plt.show()\n"
   ]
  },
  {
   "cell_type": "code",
   "execution_count": null,
   "metadata": {
    "collapsed": true
   },
   "outputs": [],
   "source": []
  }
 ],
 "metadata": {
  "kernelspec": {
   "display_name": "Python 3",
   "language": "python",
   "name": "python3"
  },
  "language_info": {
   "codemirror_mode": {
    "name": "ipython",
    "version": 3
   },
   "file_extension": ".py",
   "mimetype": "text/x-python",
   "name": "python",
   "nbconvert_exporter": "python",
   "pygments_lexer": "ipython3",
   "version": "3.4.3"
  }
 },
 "nbformat": 4,
 "nbformat_minor": 0
}
