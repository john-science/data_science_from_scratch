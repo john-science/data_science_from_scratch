{
 "cells": [
  {
   "cell_type": "code",
   "execution_count": 16,
   "metadata": {
    "collapsed": true
   },
   "outputs": [],
   "source": [
    "\n",
    "from collections import defaultdict\n",
    "\n",
    "\n",
    "users = [[0, \"Hero\", 0],\n",
    "         [1, \"Dunn\", 2],\n",
    "         [2, \"Sue\", 3],\n",
    "         [3, \"Chi\", 3]]\n",
    "\n",
    "\n",
    "class Table(object):\n",
    "    \"\"\" This is a toy table class, meant to mimick a table\n",
    "        in a relational database. The same sorts of logic\n",
    "        are implemented, but in memory.\n",
    "        No mind was paid to performance or utility, this is\n",
    "        a toy model meant to demonstrate database features.\n",
    "    \"\"\"\n",
    "    \n",
    "    def __init__(self, columns):\n",
    "        self.columns = columns\n",
    "        self.rows = []\n",
    "    \n",
    "    def __repr__(self):\n",
    "        \"\"\" pretty representation of the table: columns then rows \"\"\"\n",
    "        return str(self.columns) + \"\\n\" + \"\\n\".join(map(str, self.rows))\n",
    "    \n",
    "    def insert(self, row_values):\n",
    "        if len(row_values) != len(self.columns):\n",
    "            raise TypeError(\"wrong number of elements\")\n",
    "        row_dict = dict(zip(self.columns, row_values))\n",
    "        self.rows.append(row_dict)\n",
    "        \n",
    "    def update(self, updates, predicate):\n",
    "        for row in self.rows:\n",
    "            if predicate(row):\n",
    "                for column, new_value in updates.items():\n",
    "                    row[column] = new_value\n",
    "    \n",
    "    def delete(self, predicate=lambda row: True):\n",
    "        \"\"\" delete all rows matching predicate\n",
    "            or all rows if no predicate supplied\n",
    "        \"\"\"\n",
    "        self.rows = [row for row in self.rows if not(predicate(row))]\n",
    "\n",
    "    def select(self, keep_columns=None, additional_columns=None):\n",
    "        if keep_columns is None:\n",
    "            keep_columns = self.columns\n",
    "        \n",
    "        if additional_columns is None:\n",
    "            additional_columns = {}\n",
    "        \n",
    "        result_table = Table(keep_columns + list(additional_columns.keys()))\n",
    "        \n",
    "        for row in self.rows:\n",
    "            new_row = [row[column] for column in keep_columns]\n",
    "            for column_name, calc in additional_columns.iterms():\n",
    "                new_row.append(calc(row))\n",
    "            result_table.insert(new_row)\n",
    "        \n",
    "        return result_table\n",
    "\n",
    "    def where(self, predicate=lambda row: True):\n",
    "        \"\"\" return only the rows that satisfy the supplied predicate \"\"\"\n",
    "        where_table = Table(self.columns)\n",
    "        where_table.rows = filter(predicate, self.rows)\n",
    "        return where_table\n",
    "    \n",
    "    def limit(self, num_rows):\n",
    "        \"\"\" return only the first num_rows rows \"\"\"\n",
    "        limit_table = Table(self.columns)\n",
    "        limit_table.rows = self.rows[:num_rows]\n",
    "        return limit_table\n",
    "    \n",
    "    def group_by(self, group_by_columns, aggregates, having=None):\n",
    "        grouped_rows = defaultdict(list)\n",
    "        \n",
    "        # populate groups\n",
    "        for row in self.rows:\n",
    "            key = tuple(row[column] for column in group_by_columns)\n",
    "            grouped_rows[key].append(row)\n",
    "        \n",
    "        # resultant table consists of group_by and aggregates\n",
    "        result_table = Table(group_by_columns + list(aggregates.keys()))\n",
    "        \n",
    "        for key, rows in grouped_rows.items():\n",
    "            if having is None or having(rows):\n",
    "                new_row = list(key)\n",
    "                for aggregate_name, aggregate_fn in aggregates.items():\n",
    "                    new_row.append(aggregate_fn(rows))\n",
    "                result_table.insert(new_row)\n",
    "        \n",
    "        return result_table\n",
    "    \n",
    "    def join(self, other_table, left_join=False):\n",
    "        \"\"\" join two tables based on whatever columns they have in common \"\"\"\n",
    "        join_on_columns = [c for c in self.columns if c in other_table.columns]\n",
    "        additional_columns = [c for c in other_table.columns if c not in join_on_columns]\n",
    "        \n",
    "        # all columns from left table and additional columns from right table\n",
    "        join_table = Table(self.columns + additional_columns)\n",
    "        \n",
    "        for row in self.rows:\n",
    "            def is_join(other_row):\n",
    "                return all(other_row[c] == row[c] for c in join_on_columns)\n",
    "            \n",
    "            othter_rows = other_table.where(is_join).rows\n",
    "            \n",
    "            # for each row that machines, this one produces a resultant row\n",
    "            for other_row in other_rows:\n",
    "                join_table.insert([row[c] for c in self.columns] +\n",
    "                                  [other_row[c] for c in additional_columns])\n",
    "                \n",
    "            # if no rows match and it's a left join, output with None\n",
    "            if left_join and not other_rows:\n",
    "                join_table.insert([row[c] for c in self.columns] +\n",
    "                                  [None for c in additional_columns])\n",
    "        \n",
    "        return join_table\n"
   ]
  },
  {
   "cell_type": "code",
   "execution_count": 11,
   "metadata": {
    "collapsed": false
   },
   "outputs": [
    {
     "name": "stdout",
     "output_type": "stream",
     "text": [
      "['user_id', 'name', 'num_friends']\n",
      "{'num_friends': 0, 'name': 'Hero', 'user_id': 0}\n",
      "{'num_friends': 2, 'name': 'Dunn', 'user_id': 1}\n",
      "{'num_friends': 3, 'name': 'Sue', 'user_id': 2}\n",
      "{'num_friends': 3, 'name': 'Chi', 'user_id': 3}\n",
      "{'num_friends': 3, 'name': 'Thor', 'user_id': 4}\n",
      "{'num_friends': 2, 'name': 'Clive', 'user_id': 5}\n",
      "{'num_friends': 3, 'name': 'Hicks', 'user_id': 6}\n",
      "{'num_friends': 2, 'name': 'Devin', 'user_id': 7}\n",
      "{'num_friends': 2, 'name': 'Kate', 'user_id': 8}\n",
      "{'num_friends': 3, 'name': 'Klein', 'user_id': 9}\n",
      "{'num_friends': 1, 'name': 'Jen', 'user_id': 10}\n"
     ]
    }
   ],
   "source": [
    "\n",
    "users = Table([\"user_id\", \"name\", \"num_friends\"])\n",
    "users.insert([0, \"Hero\", 0])\n",
    "users.insert([1, \"Dunn\", 2])\n",
    "users.insert([2, \"Sue\", 3])\n",
    "users.insert([3, \"Chi\", 3])\n",
    "users.insert([4, \"Thor\", 3])\n",
    "users.insert([5, \"Clive\", 2])\n",
    "users.insert([6, \"Hicks\", 3])\n",
    "users.insert([7, \"Devin\", 2])\n",
    "users.insert([8, \"Kate\", 2])\n",
    "users.insert([9, \"Klein\", 3])\n",
    "users.insert([10, \"Jen\", 1])\n",
    "\n",
    "\n",
    "print(users)\n"
   ]
  },
  {
   "cell_type": "code",
   "execution_count": 12,
   "metadata": {
    "collapsed": false
   },
   "outputs": [],
   "source": [
    "users.update({'num_friends': 3}, lambda row: row['user_id'] == 1)"
   ]
  },
  {
   "cell_type": "code",
   "execution_count": 13,
   "metadata": {
    "collapsed": true
   },
   "outputs": [],
   "source": [
    "users.delete(lambda row: row[\"user_id\"] == 1)\n",
    "users.delete()"
   ]
  },
  {
   "cell_type": "code",
   "execution_count": 14,
   "metadata": {
    "collapsed": false
   },
   "outputs": [
    {
     "data": {
      "text/plain": [
       "['name_length']"
      ]
     },
     "execution_count": 14,
     "metadata": {},
     "output_type": "execute_result"
    }
   ],
   "source": [
    "def name_length(row): return len(row[\"name\"])\n",
    "\n",
    "\n",
    "users.select(keep_columns=[],\n",
    "             additional_columns = {\"name_length\": name_length})\n"
   ]
  },
  {
   "cell_type": "code",
   "execution_count": 15,
   "metadata": {
    "collapsed": false
   },
   "outputs": [],
   "source": [
    "def min_user_id(rows): return min(row['user_id'] for row in rows)\n",
    "\n",
    "stats_by_length = users.select(additional_columns={'name_length': name_length}) \\\n",
    "                       .group_by(group_by_columns=['name_length'],\n",
    "                                 aggregates={'min_user_id': min_user_id, 'num_users': len})"
   ]
  },
  {
   "cell_type": "code",
   "execution_count": null,
   "metadata": {
    "collapsed": true
   },
   "outputs": [],
   "source": []
  }
 ],
 "metadata": {
  "kernelspec": {
   "display_name": "Python 3",
   "language": "python",
   "name": "python3"
  },
  "language_info": {
   "codemirror_mode": {
    "name": "ipython",
    "version": 3
   },
   "file_extension": ".py",
   "mimetype": "text/x-python",
   "name": "python",
   "nbconvert_exporter": "python",
   "pygments_lexer": "ipython3",
   "version": "3.4.3"
  }
 },
 "nbformat": 4,
 "nbformat_minor": 0
}
