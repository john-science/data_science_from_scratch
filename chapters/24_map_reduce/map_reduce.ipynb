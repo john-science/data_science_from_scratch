{
 "cells": [
  {
   "cell_type": "code",
   "execution_count": 1,
   "metadata": {
    "collapsed": true
   },
   "outputs": [],
   "source": [
    "from collections import Counter, defaultdict\n",
    "import re\n",
    "\n",
    "\"\"\" Let's use map-reduce to count some words! \"\"\"\n",
    "\n",
    "\n",
    "def tokenize(message):\n",
    "    \"\"\" Removes all punctuation and returns a simple set\n",
    "    of all the words in the given string (pushed to lower case)\n",
    "    \"\"\"\n",
    "    message = message.lower()\n",
    "    all_words = re.findall(\"[a-z0-9]+\", message)\n",
    "    return set(all_words)\n",
    "\n",
    "\n",
    "def wc_mapper(doc):\n",
    "    \"\"\" for each word in the doc, emis (word, 1) \"\"\"\n",
    "    for word in tokenize(doc):\n",
    "        yield (word, 1)\n",
    "\n",
    "\n",
    "def wc_reducer(word, counts):\n",
    "    \"\"\" sum the counts for a word \"\"\"\n",
    "    yield (word, sum(counts))\n",
    "\n",
    "\n",
    "def word_count(docs):\n",
    "    \"\"\" count the words in the input docs using map-reduce \"\"\"\n",
    "    # place to store grouped values\n",
    "    collector = defaultdict(list)\n",
    "    \n",
    "    for doc in docs:\n",
    "        for word, count in wc_mapper(doc):\n",
    "            collector[word].append(count)\n",
    "    \n",
    "    return [output for word, counts in collector.items()\n",
    "                   for output in wc_reducer(word, counts)]"
   ]
  },
  {
   "cell_type": "code",
   "execution_count": 2,
   "metadata": {
    "collapsed": false
   },
   "outputs": [
    {
     "data": {
      "text/plain": [
       "[('dragon', 1), ('enter', 3), ('void', 1), ('collector', 1), ('the', 3)]"
      ]
     },
     "execution_count": 2,
     "metadata": {},
     "output_type": "execute_result"
    }
   ],
   "source": [
    "docs = ['ENter the Collector', 'Enter the Dragon', 'Enter the Void']\n",
    "\n",
    "word_count(docs)"
   ]
  },
  {
   "cell_type": "code",
   "execution_count": 3,
   "metadata": {
    "collapsed": true
   },
   "outputs": [],
   "source": [
    "\"\"\" Now let's try a slightly more general map-reduce example \"\"\"\n",
    "\n",
    "def map_reduce(inputs, mapper, reducer):\n",
    "    \"\"\" runs the provided mapper and reducer on the inputs \"\"\"\n",
    "    collector = defaultdict(list)\n",
    "    \n",
    "    for inp in inputs:\n",
    "        for key, value in mapper(inp):\n",
    "            collector[key].append(value)\n",
    "    \n",
    "    return [output for key, values in collector.items()\n",
    "            for output in reducer(key, values)]\n"
   ]
  },
  {
   "cell_type": "code",
   "execution_count": 4,
   "metadata": {
    "collapsed": false
   },
   "outputs": [
    {
     "data": {
      "text/plain": [
       "[('dragon', 1), ('enter', 3), ('void', 1), ('collector', 1), ('the', 3)]"
      ]
     },
     "execution_count": 4,
     "metadata": {},
     "output_type": "execute_result"
    }
   ],
   "source": [
    "map_reduce(docs, wc_mapper, wc_reducer)"
   ]
  },
  {
   "cell_type": "code",
   "execution_count": 9,
   "metadata": {
    "collapsed": true
   },
   "outputs": [],
   "source": [
    "\"\"\" Matrix multplication using map-reduce \"\"\"\n",
    "\n",
    "def matrix_multiply_mapper(m, element):\n",
    "    \"\"\" m is the common dimensions (cols of A, rows of B)\n",
    "        element is a tuple (matrix name, i, j, value)\n",
    "    \"\"\"\n",
    "    name, i, j, value = element\n",
    "    \n",
    "    if name == \"A\":\n",
    "        #A_ij is the jth element in the sum for each C_ik\n",
    "        for k in range(m):\n",
    "            yield((i, k), (j, value))\n",
    "    else:\n",
    "        for k in range(m):\n",
    "            yield((k, j), (i, value))\n",
    "\n",
    "\n",
    "def matrix_multiply_reducer(m, key, indexed_values):\n",
    "    results_by_index = defaultdict(list)\n",
    "    for index, value in indexed_values:\n",
    "        results_by_index[index].append(value)\n",
    "    \n",
    "    sum_product = sum(results[0] * results[1]\n",
    "                      for results in results_by_index.values()\n",
    "                      if len(results) == 2)\n",
    "    \n",
    "    if sum_product != 0.0:\n",
    "        yield (key, sum_product)\n",
    "    "
   ]
  },
  {
   "cell_type": "code",
   "execution_count": 10,
   "metadata": {
    "collapsed": false
   },
   "outputs": [
    {
     "data": {
      "text/plain": [
       "[((0, 1), -3), ((0, 0), 32)]"
      ]
     },
     "execution_count": 10,
     "metadata": {},
     "output_type": "execute_result"
    }
   ],
   "source": [
    "A = [[3,2,0],[0,0,0]]\n",
    "B = [[4,-1,0],[10,0,0],[0,0,0]]\n",
    "\n",
    "entries = [(\"A\",0,0,3),(\"A\",0,1,2),(\"B\",0,0,4),(\"B\",0,1,-1),(\"B\",1,0,10)]\n",
    "\n",
    "from functools import partial\n",
    "mapper = partial(matrix_multiply_mapper, 3)\n",
    "reducer = partial(matrix_multiply_reducer, 3)\n",
    "\n",
    "map_reduce(entries, mapper, reducer)"
   ]
  },
  {
   "cell_type": "code",
   "execution_count": null,
   "metadata": {
    "collapsed": true
   },
   "outputs": [],
   "source": []
  }
 ],
 "metadata": {
  "kernelspec": {
   "display_name": "Python 3",
   "language": "python",
   "name": "python3"
  },
  "language_info": {
   "codemirror_mode": {
    "name": "ipython",
    "version": 3
   },
   "file_extension": ".py",
   "mimetype": "text/x-python",
   "name": "python",
   "nbconvert_exporter": "python",
   "pygments_lexer": "ipython3",
   "version": "3.4.3"
  }
 },
 "nbformat": 4,
 "nbformat_minor": 0
}
