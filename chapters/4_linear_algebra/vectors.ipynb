{
 "cells": [
  {
   "cell_type": "code",
   "execution_count": 7,
   "metadata": {
    "collapsed": false
   },
   "outputs": [
    {
     "data": {
      "text/plain": [
       "2.8284271247461903"
      ]
     },
     "execution_count": 7,
     "metadata": {},
     "output_type": "execute_result"
    }
   ],
   "source": [
    "from math import sqrt\n",
    "\n",
    "\n",
    "def vector_add(v, w):\n",
    "    '''adds corresponding elements of vectors'''\n",
    "    return [v_i + w_i for v_i,w_i in zip(v, w)]\n",
    "\n",
    "\n",
    "def vector_subtract(v, w):\n",
    "    '''subtract corresponding elements of vectors'''\n",
    "    return [v_i - w_i for v_i,w_i in zip(v, w)]\n",
    "\n",
    "\n",
    "def vector_sum(vectors):\n",
    "    '''sum all corresponding elements'''\n",
    "    result = vectors[0]\n",
    "    for vector in vectors[1:]:\n",
    "        result = vector_add(result, vector)\n",
    "\n",
    "    return result\n",
    "\n",
    "\n",
    "def vector_sum_fast(vectors):\n",
    "    '''sum all corresponding elements'''\n",
    "    return reduce(vector_add, vectors)\n",
    "\n",
    "\n",
    "def scalar_multiply(c, vector):\n",
    "    '''c is the scalar'''\n",
    "    return [c * v_i for v_i in vector]\n",
    "\n",
    "\n",
    "def vector_mean(vectors):\n",
    "    '''The ith element of the result is the mean of the ith element\n",
    "    of all the input vectors.'''\n",
    "    n = len(vectors)\n",
    "    return scalar_multiply(1/n, vector_sum(vectors))\n",
    "\n",
    "\n",
    "def dot(v, w):\n",
    "    '''the sum of the product of the matching elements\n",
    "    of the input vectors'''\n",
    "    return sum(v_i * w_i for v_i,w_i in zip(v, w))\n",
    "\n",
    "\n",
    "def sum_of_squares(v):\n",
    "    '''add the square of each element'''\n",
    "    return dot(v, v)\n",
    "\n",
    "\n",
    "def magnitude(v):\n",
    "    '''Find the length of a vector in cartesian space'''\n",
    "    return sqrt(sum_of_squares(v))\n",
    "\n",
    "\n",
    "def distance(v, w):\n",
    "    '''Find the distance between two vectors'''\n",
    "    return magnitude(vector_subtract(v, w))\n",
    "\n",
    "\n",
    "a = [0, 5, 5]\n",
    "b = [2, 5, 7]\n",
    "distance(a, b)\n"
   ]
  },
  {
   "cell_type": "code",
   "execution_count": null,
   "metadata": {
    "collapsed": false
   },
   "outputs": [],
   "source": []
  }
 ],
 "metadata": {
  "kernelspec": {
   "display_name": "Python 3",
   "language": "python",
   "name": "python3"
  },
  "language_info": {
   "codemirror_mode": {
    "name": "ipython",
    "version": 3
   },
   "file_extension": ".py",
   "mimetype": "text/x-python",
   "name": "python",
   "nbconvert_exporter": "python",
   "pygments_lexer": "ipython3",
   "version": "3.4.3"
  }
 },
 "nbformat": 4,
 "nbformat_minor": 0
}
