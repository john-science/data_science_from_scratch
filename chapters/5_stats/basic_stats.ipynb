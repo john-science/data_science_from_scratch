{
 "cells": [
  {
   "cell_type": "code",
   "execution_count": 27,
   "metadata": {
    "collapsed": false
   },
   "outputs": [
    {
     "data": {
      "image/png": "[encoded data removed]",
      "text/plain": [
       "<matplotlib.figure.Figure at 0x7f071f8e0240>"
      ]
     },
     "metadata": {},
     "output_type": "display_data"
    },
    {
     "name": "stdout",
     "output_type": "stream",
     "text": [
      "414 99 0\n",
      "0 1 99\n"
     ]
    }
   ],
   "source": [
    "%matplotlib inline\n",
    "from matplotlib import pyplot as plt\n",
    "from numpy.random import poisson\n",
    "from collections import Counter\n",
    "\n",
    "# our fake data: number of friends per user on Data Sciencester\n",
    "num_friends = list(poisson(7, 213)) + list(poisson(17, 176)) + list(poisson(42, 17)) + list(poisson(72, 7)) + [99]\n",
    "\n",
    "# making histogram plot of number of friends per user\n",
    "friend_counts = Counter(num_friends)\n",
    "xs = range(101)\n",
    "ys = [friend_counts[x] for x in xs]\n",
    "plt.bar(xs, ys, edgecolor='none', width=1, color='r')\n",
    "plt.axis([0, max(xs), 0, max(ys)])\n",
    "plt.title(\"Histogram of Friend Counts\")\n",
    "plt.xlabel(\"# of friends\")\n",
    "plt.ylabel(\"# of people\")\n",
    "plt.show()\n",
    "\n",
    "# truly \"basic\" stats on the above data\n",
    "num_points = len(num_friends)\n",
    "largest_value = max(num_friends)\n",
    "smallest_value = min(num_friends)\n",
    "print(num_points, largest_value, smallest_value)\n",
    "\n",
    "# more basic stats\n",
    "sorted_values = sorted(num_friends)\n",
    "smallest_value = sorted_values[0]\n",
    "second_smallest_value = sorted_values[1]\n",
    "second_largest_value = sorted_values[-1]\n",
    "print(smallest_value, second_smallest_value, second_largest_value)\n"
   ]
  },
  {
   "cell_type": "code",
   "execution_count": null,
   "metadata": {
    "collapsed": false
   },
   "outputs": [],
   "source": []
  },
  {
   "cell_type": "code",
   "execution_count": null,
   "metadata": {
    "collapsed": true
   },
   "outputs": [],
   "source": []
  }
 ],
 "metadata": {
  "kernelspec": {
   "display_name": "Python 3",
   "language": "python",
   "name": "python3"
  },
  "language_info": {
   "codemirror_mode": {
    "name": "ipython",
    "version": 3
   },
   "file_extension": ".py",
   "mimetype": "text/x-python",
   "name": "python",
   "nbconvert_exporter": "python",
   "pygments_lexer": "ipython3",
   "version": "3.4.3"
  }
 },
 "nbformat": 4,
 "nbformat_minor": 0
}
