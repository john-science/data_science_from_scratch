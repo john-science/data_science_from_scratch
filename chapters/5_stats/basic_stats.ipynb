{
 "cells": [
  {
   "cell_type": "code",
   "execution_count": 14,
   "metadata": {
    "collapsed": false
   },
   "outputs": [
    {
     "data": {
      "image/png": "[encoded data removed]",
      "text/plain": [
       "<matplotlib.figure.Figure at 0x7f990c8ddd30>"
      ]
     },
     "metadata": {},
     "output_type": "display_data"
    }
   ],
   "source": [
    "%matplotlib inline\n",
    "from matplotlib import pyplot as plt\n",
    "from numpy.random import poisson\n",
    "from collections import Counter\n",
    "\n",
    "# our fake data: number of friends per user on Data Sciencester\n",
    "num_friends = list(poisson(7, 213)) + list(poisson(17, 177)) + list(poisson(42, 17)) + list(poisson(72, 7)) + [99]\n",
    "\n",
    "# making histogram plot of number of friends per user\n",
    "friend_counts = Counter(num_friends)\n",
    "xs = range(101)\n",
    "ys = [friend_counts[x] for x in xs]\n",
    "plt.bar(xs, ys, edgecolor='none', width=1, color='r')\n",
    "plt.axis([0, max(xs), 0, max(ys)])\n",
    "plt.title(\"Histogram of Friend Counts\")\n",
    "plt.xlabel(\"# of friends\")\n",
    "plt.ylabel(\"# of people\")\n",
    "plt.show()\n"
   ]
  },
  {
   "cell_type": "code",
   "execution_count": 3,
   "metadata": {
    "collapsed": false
   },
   "outputs": [
    {
     "name": "stdout",
     "output_type": "stream",
     "text": [
      "414 99 0\n",
      "0 2 99\n"
     ]
    }
   ],
   "source": [
    "# truly \"basic\" stats on the above data\n",
    "num_points = len(num_friends)\n",
    "largest_value = max(num_friends)\n",
    "smallest_value = min(num_friends)\n",
    "print(num_points, largest_value, smallest_value)\n",
    "\n",
    "# more basic stats\n",
    "sorted_values = sorted(num_friends)\n",
    "smallest_value = sorted_values[0]\n",
    "second_smallest_value = sorted_values[1]\n",
    "second_largest_value = sorted_values[-1]\n",
    "print(smallest_value, second_smallest_value, second_largest_value)"
   ]
  },
  {
   "cell_type": "code",
   "execution_count": 9,
   "metadata": {
    "collapsed": false
   },
   "outputs": [
    {
     "name": "stdout",
     "output_type": "stream",
     "text": [
      "median of num_friends: 11.0\n",
      "0.1 quantile of number of friends: 5\n",
      "0.25 quantile of number of friends: 7\n",
      "0.5 quantile of number of friends: 11\n",
      "0.75 quantile of number of friends: 17\n",
      "0.9 quantile of number of friends: 22\n",
      "mode of num_friends: [6]\n"
     ]
    }
   ],
   "source": [
    "''' Various Central Tendancies '''\n",
    "\n",
    "def median(v):\n",
    "    '''finds the \"middle-most\" value in v'''\n",
    "    n = len(v)\n",
    "    sorted_v = sorted(v)\n",
    "    middle_point = n // 2\n",
    "    \n",
    "    if n % 2 == 1:\n",
    "        # if n is odd, return the middle value\n",
    "        return sorted_v[middle_point]\n",
    "    else:\n",
    "        # if even, return the average of the w middle values\n",
    "        lo = middle_point - 1\n",
    "        hi = middle_point\n",
    "        return (sorted_v[lo] + sorted_v[hi]) / 2\n",
    "\n",
    "\n",
    "print('median of num_friends:', median(num_friends))\n",
    "\n",
    "\n",
    "def quantile(x, p):\n",
    "    '''returns the pth-percentile value in x'''\n",
    "    p_index = int(p * len(x))\n",
    "    return sorted(x)[p_index]\n",
    "\n",
    "\n",
    "print('0.1 quantile of number of friends:', quantile(num_friends, 0.1))\n",
    "print('0.25 quantile of number of friends:', quantile(num_friends, 0.25))\n",
    "print('0.5 quantile of number of friends:', quantile(num_friends, 0.5))\n",
    "print('0.75 quantile of number of friends:', quantile(num_friends, 0.75))\n",
    "print('0.9 quantile of number of friends:', quantile(num_friends, 0.9))\n",
    "\n",
    "# notice that the 50th percentile quantile is equal to the median\n",
    "\n",
    "def mode(x):\n",
    "    '''returns a list, might be more than one mode'''\n",
    "    counts = Counter(x)\n",
    "    max_count = max(counts.values())\n",
    "    return [x_i for x_i in counts.keys() if counts[x_i] == max_count]\n",
    "\n",
    "print('mode of num_friends:', mode(num_friends))\n"
   ]
  },
  {
   "cell_type": "code",
   "execution_count": 33,
   "metadata": {
    "collapsed": false
   },
   "outputs": [
    {
     "name": "stdout",
     "output_type": "stream",
     "text": [
      "data range of number of friends: 97\n",
      "variance of number of friends: 157.702252488\n",
      "std dev of number of friends: 12.55795574479437\n",
      "interquantile range of number of friends: 11\n",
      "covariance of number of friends and minutes online:\t 2.85862871777\n",
      "correlation of number of friends with minutes online:\t 0.0441190976938\n"
     ]
    }
   ],
   "source": [
    "''' Dispersion of Data '''\n",
    "from math import sqrt\n",
    "\n",
    "\n",
    "def data_range(x):\n",
    "    return max(x) - min(x)\n",
    "\n",
    "\n",
    "print('data range of number of friends:', data_range(num_friends))\n",
    "\n",
    "\n",
    "def mean(x):\n",
    "    '''geometric average'''\n",
    "    return sum(x) / len(x)\n",
    "\n",
    "\n",
    "def de_mean(x):\n",
    "    '''translate x by subtracting its mean (so the result has mean 0)'''\n",
    "    x_bar = mean(x)\n",
    "    return [x_i - x_bar for x_i in x]\n",
    "\n",
    "\n",
    "def sum_of_squares(x):\n",
    "    return sum([f * f for f in x])\n",
    "\n",
    "\n",
    "def variance(x):\n",
    "    '''assumes x has at least two elements'''\n",
    "    n = len(x)\n",
    "    deviations = de_mean(x)\n",
    "    return sum_of_squares(deviations) / (n - 1)\n",
    "\n",
    "\n",
    "print('variance of number of friends:', variance(num_friends))\n",
    "\n",
    "\n",
    "def standard_deviation(x):\n",
    "    return sqrt(variance(x))\n",
    "\n",
    "\n",
    "print('std dev of number of friends:', standard_deviation(num_friends))\n",
    "\n",
    "\n",
    "def interquantile_range(x):\n",
    "    return quantile(x, 0.75) - quantile(x, 0.25)\n",
    "\n",
    "\n",
    "print('interquantile range of number of friends:', interquantile_range(num_friends))\n",
    "\n",
    "\n",
    "# From chapter 4: vectors\n",
    "def dot(v, w):\n",
    "    '''the sum of the product of the matching elements\n",
    "    of the input vectors'''\n",
    "    return sum(v_i * w_i for v_i,w_i in zip(v, w))\n",
    "\n",
    "\n",
    "# a large covariance means that x tends to be large when y is small\n",
    "def covariance(x, y):\n",
    "    n = len(x)\n",
    "    return dot(de_mean(x), de_mean(y)) / (n - 1)\n",
    "\n",
    "\n",
    "# The second number here should be a \"daily minutes spent online\" list, which I don't have\n",
    "daily_minutes = poisson(24.43, 415)\n",
    "print('covariance of number of friends and minutes online:\\t', covariance(num_friends, daily_minutes))\n",
    "\n",
    "\n",
    "'''Correlation lies between -1 (perfect anti-correlation) and 1 (perfect correlation)'''\n",
    "def correlation(x, y):\n",
    "    stdev_x = standard_deviation(x)\n",
    "    stdev_y = standard_deviation(y)\n",
    "    if stdev_x > 0 and stdev_y > 0:\n",
    "        return covariance(x, y) / stdev_x / stdev_y\n",
    "    else:\n",
    "        return  0\n",
    "\n",
    "print('correlation of number of friends with minutes online:\\t', correlation(num_friends, daily_minutes))"
   ]
  },
  {
   "cell_type": "code",
   "execution_count": null,
   "metadata": {
    "collapsed": true
   },
   "outputs": [],
   "source": []
  }
 ],
 "metadata": {
  "kernelspec": {
   "display_name": "Python 3",
   "language": "python",
   "name": "python3"
  },
  "language_info": {
   "codemirror_mode": {
    "name": "ipython",
    "version": 3
   },
   "file_extension": ".py",
   "mimetype": "text/x-python",
   "name": "python",
   "nbconvert_exporter": "python",
   "pygments_lexer": "ipython3",
   "version": "3.4.3"
  }
 },
 "nbformat": 4,
 "nbformat_minor": 0
}
