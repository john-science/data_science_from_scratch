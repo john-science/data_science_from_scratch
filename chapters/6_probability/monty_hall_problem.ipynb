{
 "cells": [
  {
   "cell_type": "code",
   "execution_count": 4,
   "metadata": {
    "collapsed": false
   },
   "outputs": [],
   "source": [
    "problem = '''\n",
    "Let's Make a Deal!\n",
    "\n",
    "Apparently, there used to be a TV Game Show starring Monty Hall.\n",
    "\n",
    "Contestants were shown three doors they had to choose from.\n",
    "Behind one door was something great, let's say a new car.\n",
    "Behind the other two doors, nothing.\n",
    "\n",
    "The contestant chooses a door and then Monty Hall would open a different\n",
    "door with nothing behind it. Then the contesant could stick with their\n",
    "choice or decide to switch and pick the other of the two remaining doors.\n",
    "\n",
    "It is a classic probability problem because it is always a better idea\n",
    "to switch than to stick with your first guess. You will win twice as often.\n",
    "\n",
    "This problem is counter-intuitive at first. But what it boils down to is\n",
    "that the first time you choose a door there is a 1-in-3 chance of being\n",
    "right. But the probabilities must add to one, so the second time you\n",
    "have a 2-in-3 chance.\n",
    "\n",
    "If you aren't convinced by Bayesian Statistics, then this script actually\n",
    "runs the Monty Hall Game Show situation for you a huge number of times\n",
    "for both situations:\n",
    "\n",
    "1) You always stick with the first door.\n",
    "2) You always switch to the second door.\n",
    "'''\n",
    "\n",
    "from random import randint\n",
    "\n",
    "\n",
    "def set_up_stage():\n",
    "    '''Monty Hall's people set up the stage with three doors,\n",
    "    and place a shiny new car behind one of them.\n",
    "    '''\n",
    "    new_car = randint(0, 2)\n",
    "    doors = [0, 0, 0]\n",
    "    doors[new_car] = 1\n",
    "\n",
    "    return doors\n",
    "\n",
    "\n",
    "def select_first_door():\n",
    "    '''You randomly select your first door.'''\n",
    "    return randint(0, 2)\n",
    "\n",
    "\n",
    "def revel_another_door(doors, your_door):\n",
    "    '''Monty Hall reveals another door with nothing behind it.'''\n",
    "    for i in range(3):\n",
    "        if i != your_door and doors[i] == 0:\n",
    "            return i\n",
    "\n",
    "\n",
    "def select_new_door(your_door, door_revealed):\n",
    "    '''You decide to switch to the remaining door.'''\n",
    "    for i in range(3):\n",
    "        if i != your_door and i != door_revealed:\n",
    "            return i\n",
    "\n",
    "\n",
    "def stay_with_your_first_door():\n",
    "    '''You decide to stick with your first door...\n",
    "    Did you win a new car???\n",
    "    '''\n",
    "    doors = set_up_stage()\n",
    "    your_door = select_first_door()\n",
    "\n",
    "    return doors[your_door] == 1\n",
    "\n",
    "\n",
    "def switch_to_other_door():\n",
    "    '''You decide to switch to the third door...\n",
    "    Did you win a new car???\n",
    "    '''\n",
    "    doors = set_up_stage()\n",
    "    your_door = select_first_door()\n",
    "    door_revealed = revel_another_door(doors, your_door)\n",
    "    your_new_door = select_new_door(your_door, door_revealed)\n",
    "\n",
    "    return doors[your_new_door] == 1\n"
   ]
  },
  {
   "cell_type": "code",
   "execution_count": 6,
   "metadata": {
    "collapsed": false
   },
   "outputs": [
    {
     "name": "stdout",
     "output_type": "stream",
     "text": [
      "Let's Make a Deal!\n",
      "\n",
      "\n",
      "First simulation: You always stick with your first door:\n",
      "Number of wins ouf of 200000:\t66526\n",
      "Percentage of winning rounds:\t33.263\n",
      "\n",
      "\n",
      "Second simulation: You always switch to the other door:\n",
      "Number of wins ouf of 200000:\t133364\n",
      "Percentage of winning rounds:\t66.682\n",
      "\n"
     ]
    }
   ],
   "source": [
    "print(\"Let's Make a Deal!\\n\\n\")\n",
    "N = 200000\n",
    "\n",
    "print('First simulation: You always stick with your first door:')\n",
    "number_wins = 0\n",
    "for _ in range(N):\n",
    "    if stay_with_your_first_door():\n",
    "        number_wins += 1\n",
    "\n",
    "print('Number of wins ouf of ' + str(N) + ':\\t' + str(number_wins))\n",
    "print('Percentage of winning rounds:\\t' + str(100.0 * float(number_wins) / N))\n",
    "\n",
    "print('\\n\\nSecond simulation: You always switch to the other door:')\n",
    "number_wins = 0\n",
    "for _ in range(N):\n",
    "    if switch_to_other_door():\n",
    "        number_wins += 1\n",
    "\n",
    "print('Number of wins ouf of ' + str(N) + ':\\t' + str(number_wins))\n",
    "print('Percentage of winning rounds:\\t' + str(100.0 * float(number_wins) / N) + '\\n')"
   ]
  },
  {
   "cell_type": "code",
   "execution_count": null,
   "metadata": {
    "collapsed": true
   },
   "outputs": [],
   "source": []
  }
 ],
 "metadata": {
  "kernelspec": {
   "display_name": "Python 3",
   "language": "python",
   "name": "python3"
  },
  "language_info": {
   "codemirror_mode": {
    "name": "ipython",
    "version": 3
   },
   "file_extension": ".py",
   "mimetype": "text/x-python",
   "name": "python",
   "nbconvert_exporter": "python",
   "pygments_lexer": "ipython3",
   "version": "3.4.3"
  }
 },
 "nbformat": 4,
 "nbformat_minor": 0
}
