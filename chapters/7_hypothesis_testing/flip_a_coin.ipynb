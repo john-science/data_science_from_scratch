{
 "cells": [
  {
   "cell_type": "code",
   "execution_count": 2,
   "metadata": {
    "collapsed": false
   },
   "outputs": [],
   "source": [
    "%matplotlib inline\n",
    "from matplotlib import pyplot as plt\n",
    "from math import erf, sqrt\n",
    "\n",
    "\n",
    "def normal_approx_to_binomial(n, p):\n",
    "    '''finds mu and sigma corresponding to a Binomial(n, p)'''\n",
    "    mu = p * n\n",
    "    sigma = sqrt(p * (1 - p) * n)\n",
    "    return mu, sigma\n",
    "\n",
    "\n",
    "def normal_cdf(x, mu=0, sigma=1):\n",
    "    '''We can use a normal CDF to determine if a random variable\n",
    "    falls within some range.\n",
    "    '''\n",
    "    return (1 + erf((x - mu) / sqrt(2) / sigma)) / 2\n",
    "\n",
    "\n",
    "normal_prob_below = normal_cdf\n",
    "\n",
    "\n",
    "def normal_prob_above(lo, mu=0, sigma=1):\n",
    "    return 1 - normal_cdf(lo, mu, sigma)\n",
    "\n",
    "\n",
    "def normal_prob_between(lo, hi, mu=0, sigma=1):\n",
    "    return normal_cdf(hi, mu, sigma) - normal_cdf(lo, mu, sigma)\n",
    "\n",
    "\n",
    "def normal_prob_outside(lo, hi, mu=0, sigma=1):\n",
    "    return 1 - normal_prob_between(lo, hi, mu, sigma)\n",
    "\n",
    "\n",
    "def two_sided_p_value(x, mu=0, sigma=1):\n",
    "    if x >= mu:\n",
    "        return 2 * normal_prob_above(x, mu, sigma)\n",
    "    else:\n",
    "        return 2 * normal_prob_below(x, mu, sigma)\n"
   ]
  },
  {
   "cell_type": "code",
   "execution_count": 3,
   "metadata": {
    "collapsed": false
   },
   "outputs": [
    {
     "name": "stdout",
     "output_type": "stream",
     "text": [
      "\n",
      "Flip a fair coin 1000 times...\n",
      "mu=500.0 and sigma=15.811388300841896\n",
      "\n",
      "Test if your hypothesis falls outside of bounds...\n",
      "(469.01026640487555, 530.9897335951244)\n"
     ]
    }
   ],
   "source": [
    "# To find the interval containing p percent of a random distribution, use the inverse normal CDF\n",
    "def inverse_normal_cdf(p, mu=0, sigma=1, tolerance=0.00001):\n",
    "    if mu != 0 or sigma != 1:\n",
    "        return mu + sigma * inverse_normal_cdf(p, tolerance=tolerance)\n",
    "    \n",
    "    low_z, low_p = -10.0, 0\n",
    "    hi_z, hi_p = 10.0, 1\n",
    "    while hi_z - low_z > tolerance:\n",
    "        mid_z = (low_z + hi_z) / 2\n",
    "        mid_p = normal_cdf(mid_z)\n",
    "        if mid_p < p:\n",
    "            low_z, low_p = mid_z, mid_p\n",
    "        elif mid_p > p:\n",
    "            hi_z, hi_p = mid_z, mid_p\n",
    "        else:\n",
    "            break\n",
    "    \n",
    "    return mid_z\n",
    "\n",
    "\n",
    "def normal_upper_bound(prob, mu=0, sigma=1):\n",
    "    '''returns the z for which P(Z <= z) = prob'''\n",
    "    return inverse_normal_cdf(prob, mu, sigma)\n",
    "\n",
    "\n",
    "def normal_lower_bound(prob, mu=0, sigma=1):\n",
    "    '''returns the z for which P(Z >= z) = prob'''\n",
    "    return inverse_normal_cdf(1 - prob, mu, sigma)\n",
    "\n",
    "\n",
    "def normal_two_sided_bounds(prob, mu=0, sigma=1):\n",
    "    '''returns the symmetric (about the mean) bounds\n",
    "    that contain the specified prob'''\n",
    "    tail_probability = (1 - prob) / 2\n",
    "    upper_bound = normal_lower_bound(tail_probability, mu, sigma)\n",
    "    lower_bound = normal_upper_bound(tail_probability, mu, sigma)\n",
    "    return lower_bound, upper_bound\n",
    "\n",
    "\n",
    "print(\"\\nFlip a fair coin 1000 times...\")\n",
    "mu0, sigma0 = normal_approx_to_binomial(1000, 0.5)\n",
    "print('mu=' + str(mu0) + ' and sigma=' + str(sigma0))\n",
    "\n",
    "\n",
    "print('\\nTest if your hypothesis falls outside of bounds...')\n",
    "print(normal_two_sided_bounds(0.95, mu0, sigma0))\n"
   ]
  },
  {
   "cell_type": "code",
   "execution_count": null,
   "metadata": {
    "collapsed": true
   },
   "outputs": [],
   "source": []
  }
 ],
 "metadata": {
  "kernelspec": {
   "display_name": "Python 3",
   "language": "python",
   "name": "python3"
  },
  "language_info": {
   "codemirror_mode": {
    "name": "ipython",
    "version": 3
   },
   "file_extension": ".py",
   "mimetype": "text/x-python",
   "name": "python",
   "nbconvert_exporter": "python",
   "pygments_lexer": "ipython3",
   "version": "3.4.3"
  }
 },
 "nbformat": 4,
 "nbformat_minor": 0
}
